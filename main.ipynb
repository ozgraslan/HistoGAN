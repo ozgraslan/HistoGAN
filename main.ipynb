{
 "cells": [
  {
   "cell_type": "markdown",
   "metadata": {},
   "source": [
    "## Code Authors\n",
    "Özgür Aslan 2236958 aslan.ozgur@metu.edu.tr  \n",
    "Burak Bolat 2237097 burak.bolat@metu.edu.tr\n",
    "\n",
    "## Paper Authors\n",
    "\n",
    "Mahmoud Afifi, Marcus A. Brubaker, Michael S. Brown\n",
    "\n",
    "## Paper Information Summary\n",
    "The paper we selected to implement is [HistoGAN: Controlling Colors of GAN-Generated and Real Images via Color Histograms](https://arxiv.org/abs/2011.11731) (CVPR, 2021).   \n",
    "\n",
    "The main idea of the paper is to use color histogram of target images to control the colors of the generated image without changing the high level features of the generated image (gender, having glasses, beard, hair style and objects in the background...)  \n",
    "To accomplish this idea, they modify the StyleGAN2 architecture:\n",
    "- In the last 2 style blocks, instead of using affine transformation of the w vector, they use the color histogram projected by a neural network.\n",
    "- In addition to mixing, path length and r1 regularizations, they use a histogram based loss.\n",
    "- Two different target images are used to obtain a interpolated histogram. This histogram is used by the generator network to control the generated image's color scheme. \n",
    "- Interpolation of histograms is used to prevent the generator network to overfit color histograms of the training dataset.\n",
    "- Due to hardware limitations, image resolution of 256 is used.\n",
    "- Also due to hardware limitations they use batches of size 2 with gradient accumulation.\n",
    "\n",
    "### Histogram Usage with the SytleGAN2 Architecture \n",
    "![arch](materials/arch.png)"
   ]
  },
  {
   "cell_type": "markdown",
   "metadata": {},
   "source": [
    "## Experimental Goals\n",
    "This study implements only the HistoGAN part of the paper, not ReHistoGAN.\n",
    "Our experimental result goal is to train HistoGAN to generate Anime Faces with controlled histograms and compute the FID scores given in the paper.\n",
    "\n",
    "![exp1](materials/expg1.jpeg)\n",
    "![exp2](materials/expg2.jpeg)\n",
    "\n",
    "### Histogram Computation\n",
    "Computing Histogram is critical since it directly affects style of last 2 blocks. Authors used chrominance logarithm space. It normalizes each color channel with respect to other two channels in logarithmic space. In this chrominance space, there is u and v axes. That is, if we look at red channel's chrominance space, u is the normalization of red channel with respect to green and v is the normalization of red channel with respect to blue. Same holds for all color channels.  \n",
    "\n",
    "For red channel: $I_{uR}(x) = log(\\dfrac{I_R(x)+\\epsilon}{I_G(x)+\\epsilon}$)\n",
    "\n",
    "After shifting RGB space to RGB-uv space, the histogram is computed as it is computationally efficient and more stable. Authors used 64 bin for the histogram which results in 64x64 histogram for u and v channel. We have 3 channels, namely red, green and blue, thus, overall the histogram is 3x64x64. Histogram is weighted with respect to pixel intesity $I_y$, i.e. if a pixel has high RGB values its affect on the histogram bin is higher.   \n",
    "\n",
    "$I_y(x) = \\sqrt{I_R^2(x) + I_G^2(x) + I_B^2(x)}$\n",
    "\n",
    "Last difference of the histogram than histograms of previous works is kernels for computing bins. Authors do not used exact bin selection. Instead, they put a normalized pixel into a bin with respect to soft kernel. That means, if we have a red channel after normalized with respect to green and blue, we have some u and v values. Instead of just adding 1 (1 being chosen for simplicty, remember intensity multiplication) to the bin of H(u,v), they add values to the neighbour of (u,v) with the value after inverse quadratic kernel.\n",
    "\n",
    "$H(u,v,c) = \\sum_{x} k(I_{uc}(x), I_{vc}(x), u, v)I_y(x)$  \n",
    "$k(I_{uc}, I_{vc}, u, v) = (1 + (|I_{uc}-u|/\\tau)^2)^{-1}\\times(1 + (|I_{uc}-u|/\\tau)^2)^{-1}$\n",
    "\n",
    "Histogram feature is computed like syle vector (w). It passed through the same neural network architecture with different parametes. More precisely, histogram passes through 8 layer MLP and outputs latent histogram vector size of 512.  \n",
    "\n",
    "We put some computed histograms by us. Images taken from internet crawling.  \n",
    "\n",
    "### Loss for Training with Histogram\n",
    "Since the paper uses target histogram for generation, generated image should have close histogram to target. Thus a closeness measure Hellinger distance between histogram of generated and target images is computed and tried to minimize. You can check the losses belove.\n",
    "\n",
    "Difference between histograms  \n",
    "\n",
    "$C(H_g, H_t) = \\dfrac{1}{\\sqrt{2}} ||H_g^{\\frac{1}{2}} - H_t^{\\frac{1}{2}}||_2$\n",
    "![l1](materials/hloss.png)\n",
    "\n",
    "$L_g = D(I_g) + \\alpha C(H_g, H_t)$\n",
    "Total loss for generator  \n",
    "![lt](materials/total_loss.png)\n",
    "\n",
    "### Discriminator\n",
    "\n",
    "Discriminator consist of residual blocks. There are log_2(N)-1 such bloks where N is image resolution, to be spesific 256. As a result, the discriminator has 7 layers. First block takes 3 channel image as input and outputs m channel features. After the first block, each block produces 2*m of previous block. At the end of residual blocks, a FC layer outputs a scaler.\n",
    "\n",
    "![res](materials/residual.png)\n",
    "\n",
    "\n",
    "### Important Note on Dataset\n",
    "The Anime Face Dataset is a Kaggle dataset, thus, requires a Kaggle account. Using an account one can download it from:\n",
    "https://www.kaggle.com/datasets/splcher/animefacedataset"
   ]
  },
  {
   "cell_type": "markdown",
   "metadata": {},
   "source": [
    "### Faced Challenges\n",
    "\n",
    "#### Architecture Challenges\n",
    "\n",
    "As we stated, HistoGAN is built on StyleGAN2. StyleGAN2 scales directly the weigth of the model, unlike the first version does the nearly same operations, namely mod-demod, on convolved image (or say not directly weights for convoltion filters). The original StyleGAN2 implemented using Tensorflow which allows to multiplication on weights, that is called in-place operation on variables. However, Pytorch does not allow in-place operations on built in modules like torch.nn.Conv2d. Therefore, we implemented a conv2d version. Model parameters are Pytorch Variables and convolution operation is handled with fold and unfold operations of Pytorch. Doing so we can apply convolution after scaling weights of convolution filters.\n",
    "\n",
    "\n",
    "#### Training Challenges\n",
    "\n",
    "During the training phase, the paper does not mentioned how generator outputs the images. We made different assumption such as using sigmoid or tanh to generate pixels in a range. Another assumption for the same problem is using ReLU or leaky ReLU that we saw from other generator implementation.  \n",
    "StyleGAN2 stated that they used non saturating loss for some datasets and WGAN-GP loss for other datasets. HistoGAN paper does not clearly mention on this. Consequently, we implemented both but non saturating loss lead numerical issues like nan or infs. On the other hand, WGAN-GP computes high loss values and results in rapid saturation (see above figures). This issues may be resulted from hand implemented convolution operations. \n",
    "\n",
    "#### Ambigious Loss\n",
    "\n",
    "The paper does not state clearly which loss functions for both generator and discriminator is used. It states how one can combine with histogram loss, but, exact losses are not clear. As a result, we accounted three discriminator losses. We focused mostly non saturating losses since it was mentioned in the paper. \n",
    "\n",
    "We implemented gradient penalty and R1 penalty for Discriminator. R1 penalty is the gradient penalty for only scoring the real images. Seeing both penalty does not reach good performance, we trained the Discriminator with Spectral Normalization. \n",
    "\n",
    "#### Model Initialization  \n",
    "\n",
    "The model initalization was unclear. StyleGAN2 initializes weights with random normal and uses equalized learning rate method, however, initalization with kaiming may also be used. Authors granted the arhitecture from StyleGAN2, yet, they do not fully copy the training details. As a consequence, they do not mentioned that they used equalized learning rate. We implemented kaiming normal implementation and equalized learning rate, however, there was no such important improvements. As a result, we stick with kaiming normal.\n",
    "\n",
    "#### Training with Different Architectures\n",
    "\n",
    "Since we can not reach the desired generated images, we implemented StyleGANv1 + HistoGAN Block and a slight changed version of StyleGANv1 which was mentioned in StyleGAN2 paper (please see revisede StyleGAN in StyleGAN2 paper). We implemented all versions given at the figure below.\n",
    "\n",
    "![archs](materials/archs.png)"
   ]
  },
  {
   "cell_type": "markdown",
   "metadata": {},
   "source": [
    "#### Implementation Info\n",
    "- python 3.7.13\n",
    "- pytorch 1.11.0 with cuda10.2   \n",
    "We used conda environments for clean library setups and included environment.yml file.  \n",
    "\n",
    "#### Model Flow\n",
    "- Get image batch and create histograms.\n",
    "- Mix random two histogram and give it to the generator as target histogram. \n",
    "- Create random noise and give it to the generator.\n",
    "- Random noise is passed through the style network which is 8 layer Linear network and get style vector.\n",
    "- Style vector is linearly transformed for the corresponding block, then, weights are moduleted and demoduleted with block's weights.\n",
    "- At the first block, learnable constant feature is convolved with weights processed at previous step. Paddings are set not to change block's input feature size.\n",
    "- Convolution bias and linearly projected random noise (B) are added to the convolved feature."
   ]
  },
  {
   "cell_type": "code",
   "execution_count": 1,
   "metadata": {},
   "outputs": [],
   "source": [
    "%load_ext autoreload\n",
    "%autoreload 2\n",
    "import os\n",
    "import numpy as np\n",
    "import torch\n",
    "from trainer import Trainer"
   ]
  },
  {
   "cell_type": "code",
   "execution_count": 2,
   "metadata": {},
   "outputs": [],
   "source": [
    "config = dict(\n",
    "    num_epochs = 10, # number of epochs for training\n",
    "    batch_size = 16, # batch size\n",
    "    acc_gradient_total = 16, # total number of samples seen by the networks in 1 iteration\n",
    "    r1_factor = 10, # coefficient of the r1 regularization term\n",
    "    r1_update_iter = 4, # in every r1_update_iter r1 regularization is used\n",
    "    decay_coeff = 0.99, # ema decay coefficient for updating the path length target varaible\n",
    "    plr_update_iter = 32, # in every plr_update_iter the path length regularization is used\n",
    "    save_iter = 400, # in every save_iter the images are saved\n",
    "    image_res = 64, # the resolution of the images\n",
    "    network_capacity = 16, # capacity of the network used for channels of constant input in generator \n",
    "    latent_dim = 512, # dimensionalty of the noises\n",
    "    bin_size = 64, # bin size of the histograms\n",
    "    learning_rate = 0.0002, # learning rate\n",
    "    mapping_layer_num = 8, # number of Linear layers in Mapping part of the Generator (z -> w)\n",
    "    mixing_prob = 0.9, # probality of using two distinct noises for generation\n",
    "    use_plr = True, # Wheter to use path length reg in training\n",
    "    use_r1r = True, # Wheter to use r1 reg in training\n",
    "    kaiming_init = True, # Initiazlize networks with kaiming initialization method by He et al.\n",
    "    use_eqlr = False, # use eqularized learning coefficients for weights (similar to kaiming but used in every forward calculation)\n",
    "    use_spec_norm = False, # use spectral normalization of Discriminator weights (For stabilization)\n",
    "    disc_arch= \"ResBlock\", # architecture of the Discriminator (used for bookkeeping)\n",
    "    gen_arch = \"InputModDemod\", # architecture of the Generator (used for bookkeeping)\n",
    "    optim=\"Adam\", # Optimizer used (Adam or DiffGrad)\n",
    "    optim_params = (0.5, 0.9),  # Optimizer beta values (Adam and DiffGrad)\n",
    "    loss_type=\"wasser\", # Loss type to use (Wasserstein, Hinge, Log Sigmoid)\n",
    "    save_model_path = \".\", # Path to save generator and discriminator\n",
    "    pre_gen_path = None, # for loading a pretrained network\n",
    "    pre_disc_path = None, # for loading a pretrained network\n",
    "    training_dataset_path = \"images/anime_face\", # path of training images \n",
    "    generated_images_path = \"generated_images\", # path to save generated images\n",
    "    device=\"cuda\" if torch.cuda.is_available() else \"cpu\"\n",
    "    )"
   ]
  },
  {
   "cell_type": "code",
   "execution_count": 3,
   "metadata": {},
   "outputs": [
    {
     "name": "stdout",
     "output_type": "stream",
     "text": [
      "Dataset Loaded\n",
      "Networks Created\n"
     ]
    }
   ],
   "source": [
    "trainer = Trainer(config=config)"
   ]
  },
  {
   "cell_type": "code",
   "execution_count": 4,
   "metadata": {},
   "outputs": [],
   "source": [
    "# Taken from https://pytorch.org/vision/stable/auto_examples/plot_visualization_utils.html\n",
    "\n",
    "import matplotlib.pyplot as plt\n",
    "import torchvision.transforms.functional as F\n",
    "from torchvision.utils import make_grid\n",
    "\n",
    "\n",
    "plt.rcParams[\"savefig.bbox\"] = 'tight'\n",
    "\n",
    "\n",
    "def show(imgs):\n",
    "    imgs = imgs.mul(255).add_(0.5).clamp_(0, 255).to(\"cpu\", torch.uint8)\n",
    "    if not isinstance(imgs, list):\n",
    "        imgs = [imgs]\n",
    "    fix, axs = plt.subplots(ncols=len(imgs), squeeze=False)\n",
    "    for i, img in enumerate(imgs):\n",
    "        img = img.detach()\n",
    "        img = F.to_pil_image(img)\n",
    "        axs[0, i].imshow(np.asarray(img))\n",
    "        axs[0, i].set(xticklabels=[], yticklabels=[], xticks=[], yticks=[])"
   ]
  },
  {
   "cell_type": "code",
   "execution_count": 5,
   "metadata": {},
   "outputs": [
    {
     "ename": "KeyboardInterrupt",
     "evalue": "",
     "output_type": "error",
     "traceback": [
      "\u001b[0;31m---------------------------------------------------------------------------\u001b[0m",
      "\u001b[0;31mKeyboardInterrupt\u001b[0m                         Traceback (most recent call last)",
      "\u001b[0;32m/tmp/ipykernel_8019/3706850346.py\u001b[0m in \u001b[0;36m<module>\u001b[0;34m\u001b[0m\n\u001b[1;32m      5\u001b[0m         \u001b[0mtotal_iter\u001b[0m \u001b[0;34m+=\u001b[0m \u001b[0;36m1\u001b[0m\u001b[0;34m\u001b[0m\u001b[0;34m\u001b[0m\u001b[0m\n\u001b[1;32m      6\u001b[0m         \u001b[0mhist_list\u001b[0m \u001b[0;34m=\u001b[0m \u001b[0mtrainer\u001b[0m\u001b[0;34m.\u001b[0m\u001b[0mtrain_discriminator\u001b[0m\u001b[0;34m(\u001b[0m\u001b[0mchunk_data\u001b[0m\u001b[0;34m,\u001b[0m \u001b[0miter\u001b[0m\u001b[0;34m)\u001b[0m\u001b[0;34m\u001b[0m\u001b[0;34m\u001b[0m\u001b[0m\n\u001b[0;32m----> 7\u001b[0;31m         \u001b[0mtrainer\u001b[0m\u001b[0;34m.\u001b[0m\u001b[0mtrain_generator\u001b[0m\u001b[0;34m(\u001b[0m\u001b[0mhist_list\u001b[0m\u001b[0;34m,\u001b[0m \u001b[0miter\u001b[0m\u001b[0;34m)\u001b[0m\u001b[0;34m\u001b[0m\u001b[0;34m\u001b[0m\u001b[0m\n\u001b[0m\u001b[1;32m      8\u001b[0m \u001b[0;34m\u001b[0m\u001b[0m\n\u001b[1;32m      9\u001b[0m     \u001b[0;31m# save iamges after every epoch\u001b[0m\u001b[0;34m\u001b[0m\u001b[0;34m\u001b[0m\u001b[0;34m\u001b[0m\u001b[0m\n",
      "\u001b[0;32m~/git/HistoGANN/trainer.py\u001b[0m in \u001b[0;36mtrain_generator\u001b[0;34m(self, hist_list, iter)\u001b[0m\n\u001b[1;32m    109\u001b[0m \u001b[0;34m\u001b[0m\u001b[0m\n\u001b[1;32m    110\u001b[0m             \u001b[0mg_loss\u001b[0m \u001b[0;34m/=\u001b[0m \u001b[0mself\u001b[0m\u001b[0;34m.\u001b[0m\u001b[0macc_gradient_iter\u001b[0m\u001b[0;34m\u001b[0m\u001b[0;34m\u001b[0m\u001b[0m\n\u001b[0;32m--> 111\u001b[0;31m             \u001b[0mg_loss\u001b[0m\u001b[0;34m.\u001b[0m\u001b[0mbackward\u001b[0m\u001b[0;34m(\u001b[0m\u001b[0;34m)\u001b[0m\u001b[0;34m\u001b[0m\u001b[0;34m\u001b[0m\u001b[0m\n\u001b[0m\u001b[1;32m    112\u001b[0m \u001b[0;34m\u001b[0m\u001b[0m\n\u001b[1;32m    113\u001b[0m         \u001b[0mself\u001b[0m\u001b[0;34m.\u001b[0m\u001b[0mgene_optim\u001b[0m\u001b[0;34m.\u001b[0m\u001b[0mstep\u001b[0m\u001b[0;34m(\u001b[0m\u001b[0;34m)\u001b[0m\u001b[0;34m\u001b[0m\u001b[0;34m\u001b[0m\u001b[0m\n",
      "\u001b[0;32m~/anaconda3/envs/histo/lib/python3.7/site-packages/torch/_tensor.py\u001b[0m in \u001b[0;36mbackward\u001b[0;34m(self, gradient, retain_graph, create_graph, inputs)\u001b[0m\n\u001b[1;32m    361\u001b[0m                 \u001b[0mcreate_graph\u001b[0m\u001b[0;34m=\u001b[0m\u001b[0mcreate_graph\u001b[0m\u001b[0;34m,\u001b[0m\u001b[0;34m\u001b[0m\u001b[0;34m\u001b[0m\u001b[0m\n\u001b[1;32m    362\u001b[0m                 inputs=inputs)\n\u001b[0;32m--> 363\u001b[0;31m         \u001b[0mtorch\u001b[0m\u001b[0;34m.\u001b[0m\u001b[0mautograd\u001b[0m\u001b[0;34m.\u001b[0m\u001b[0mbackward\u001b[0m\u001b[0;34m(\u001b[0m\u001b[0mself\u001b[0m\u001b[0;34m,\u001b[0m \u001b[0mgradient\u001b[0m\u001b[0;34m,\u001b[0m \u001b[0mretain_graph\u001b[0m\u001b[0;34m,\u001b[0m \u001b[0mcreate_graph\u001b[0m\u001b[0;34m,\u001b[0m \u001b[0minputs\u001b[0m\u001b[0;34m=\u001b[0m\u001b[0minputs\u001b[0m\u001b[0;34m)\u001b[0m\u001b[0;34m\u001b[0m\u001b[0;34m\u001b[0m\u001b[0m\n\u001b[0m\u001b[1;32m    364\u001b[0m \u001b[0;34m\u001b[0m\u001b[0m\n\u001b[1;32m    365\u001b[0m     \u001b[0;32mdef\u001b[0m \u001b[0mregister_hook\u001b[0m\u001b[0;34m(\u001b[0m\u001b[0mself\u001b[0m\u001b[0;34m,\u001b[0m \u001b[0mhook\u001b[0m\u001b[0;34m)\u001b[0m\u001b[0;34m:\u001b[0m\u001b[0;34m\u001b[0m\u001b[0;34m\u001b[0m\u001b[0m\n",
      "\u001b[0;32m~/anaconda3/envs/histo/lib/python3.7/site-packages/torch/autograd/__init__.py\u001b[0m in \u001b[0;36mbackward\u001b[0;34m(tensors, grad_tensors, retain_graph, create_graph, grad_variables, inputs)\u001b[0m\n\u001b[1;32m    173\u001b[0m     Variable._execution_engine.run_backward(  # Calls into the C++ engine to run the backward pass\n\u001b[1;32m    174\u001b[0m         \u001b[0mtensors\u001b[0m\u001b[0;34m,\u001b[0m \u001b[0mgrad_tensors_\u001b[0m\u001b[0;34m,\u001b[0m \u001b[0mretain_graph\u001b[0m\u001b[0;34m,\u001b[0m \u001b[0mcreate_graph\u001b[0m\u001b[0;34m,\u001b[0m \u001b[0minputs\u001b[0m\u001b[0;34m,\u001b[0m\u001b[0;34m\u001b[0m\u001b[0;34m\u001b[0m\u001b[0m\n\u001b[0;32m--> 175\u001b[0;31m         allow_unreachable=True, accumulate_grad=True)  # Calls into the C++ engine to run the backward pass\n\u001b[0m\u001b[1;32m    176\u001b[0m \u001b[0;34m\u001b[0m\u001b[0m\n\u001b[1;32m    177\u001b[0m def grad(\n",
      "\u001b[0;31mKeyboardInterrupt\u001b[0m: "
     ]
    },
    {
     "data": {
      "image/png": "[encoded data removed]",
      "text/plain": [
       "<Figure size 432x288 with 1 Axes>"
      ]
     },
     "metadata": {},
     "output_type": "display_data"
    }
   ],
   "source": [
    "\n",
    "# Traning loop with gradient accumulation\n",
    "total_iter = 0\n",
    "for _ in range(0, trainer.num_epochs):\n",
    "    for iter, chunk_data in enumerate(trainer.dataloader):\n",
    "        total_iter += 1\n",
    "        hist_list = trainer.train_discriminator(chunk_data, iter)\n",
    "        trainer.train_generator(hist_list, iter)\n",
    "\n",
    "    # save iamges after every epoch\n",
    "    z = torch.randn(trainer.batch_size, trainer.num_gen_layers,trainer.latent_dim).to(trainer.device)\n",
    "    fake_data, _ = trainer.generator(z, hist_list[0])\n",
    "    fd = [data for data in fake_data]\n",
    "    grid = make_grid(fd, nrow=1, normalize=True)\n",
    "    show(grid)\n",
    "    plt.show()\n",
    "    del grid, fd, fake_data, z\n",
    "    torch.save(trainer.generator.state_dict(), os.path.join(trainer.save_model_path, \"generator.pt\"))\n",
    "    torch.save(trainer.discriminator.state_dict(), os.path.join(trainer.save_model_path, \"discriminator.pt\"))\n",
    "        "
   ]
  },
  {
   "cell_type": "code",
   "execution_count": null,
   "metadata": {},
   "outputs": [],
   "source": [
    "import eval\n",
    "\n",
    "generator = HistoGAN(network_capacity, latent_dim, bin_size, image_res, mapping_layer_num, kaiming_init=kaiming_init, use_eqlr=use_eqlr)\n",
    "generator_dir = \"models/generator_1.pt\"\n",
    "generator.load_state_dict(torch.load(generator_dir))\n",
    "print(\"Model loaded\")\n",
    "fid_batch_scores = eval.fid_scores(generator, \"images\")\n",
    "fid_np = np.array(fid_batch_scores)\n",
    "print(fid_np.mean())\n"
   ]
  }
 ],
 "metadata": {
  "interpreter": {
   "hash": "0f6dd8c1d7576cf0de48aad06b0e935e2de8273eecf0f787202423f6355e44ee"
  },
  "kernelspec": {
   "display_name": "Python 3",
   "language": "python",
   "name": "python3"
  },
  "language_info": {
   "codemirror_mode": {
    "name": "ipython",
    "version": 3
   },
   "file_extension": ".py",
   "mimetype": "text/x-python",
   "name": "python",
   "nbconvert_exporter": "python",
   "pygments_lexer": "ipython3",
   "version": "3.7.13"
  }
 },
 "nbformat": 4,
 "nbformat_minor": 2
}
