{
 "cells": [
  {
   "cell_type": "code",
   "execution_count": 1,
   "metadata": {},
   "outputs": [],
   "source": [
    "%load_ext autoreload\n",
    "%autoreload 2"
   ]
  },
  {
   "cell_type": "code",
   "execution_count": 2,
   "metadata": {},
   "outputs": [],
   "source": [
    "from model import ResidualBlock, Discriminator\n",
    "import torchvision\n",
    "import torch\n",
    "\n",
    "image = torchvision.transforms.Resize(256)(torchvision.io.read_image(\"face.jpg\").float()).unsqueeze(0)"
   ]
  },
  {
   "cell_type": "code",
   "execution_count": 3,
   "metadata": {},
   "outputs": [
    {
     "data": {
      "text/plain": [
       "torch.Size([1, 3, 256, 256])"
      ]
     },
     "execution_count": 3,
     "metadata": {},
     "output_type": "execute_result"
    }
   ],
   "source": [
    "image.size()"
   ]
  },
  {
   "cell_type": "code",
   "execution_count": 4,
   "metadata": {},
   "outputs": [],
   "source": [
    "rb = ResidualBlock(3, 16)"
   ]
  },
  {
   "cell_type": "code",
   "execution_count": 5,
   "metadata": {},
   "outputs": [
    {
     "data": {
      "text/plain": [
       "torch.Size([1, 16, 128, 128])"
      ]
     },
     "execution_count": 5,
     "metadata": {},
     "output_type": "execute_result"
    }
   ],
   "source": [
    "out = rb(image)\n",
    "out.size()"
   ]
  },
  {
   "cell_type": "code",
   "execution_count": 6,
   "metadata": {},
   "outputs": [],
   "source": [
    "d = Discriminator(7, 16)"
   ]
  },
  {
   "cell_type": "code",
   "execution_count": 7,
   "metadata": {},
   "outputs": [
    {
     "name": "stdout",
     "output_type": "stream",
     "text": [
      "torch.Size([1, 3, 256, 256])\n"
     ]
    },
    {
     "data": {
      "text/plain": [
       "tensor([[0.4998]], grad_fn=<SigmoidBackward0>)"
      ]
     },
     "execution_count": 7,
     "metadata": {},
     "output_type": "execute_result"
    }
   ],
   "source": [
    "print(image.size())\n",
    "d(image)"
   ]
  },
  {
   "cell_type": "code",
   "execution_count": 8,
   "metadata": {},
   "outputs": [
    {
     "data": {
      "text/plain": [
       "torch.Size([8, 1])"
      ]
     },
     "execution_count": 8,
     "metadata": {},
     "output_type": "execute_result"
    }
   ],
   "source": [
    "test = torch.zeros((8,3,256,256))\n",
    "d(test).size()"
   ]
  },
  {
   "cell_type": "code",
   "execution_count": 9,
   "metadata": {},
   "outputs": [
    {
     "name": "stdout",
     "output_type": "stream",
     "text": [
      "torch.Size([8, 64516, 16])\n",
      "torch.Size([16, 4, 3, 3]) torch.Size([8, 16, 254, 254]) torch.Size([8, 4, 256, 256]) torch.Size([8, 36, 64516])\n"
     ]
    }
   ],
   "source": [
    "import torch\n",
    "torch.manual_seed(9)\n",
    "#layer = torch.nn.Linear(1, 4)\n",
    "# layer.weight *= 4 inplace operations on leaf variables does not work\n",
    "\n",
    "con_layer = torch.nn.Conv2d(4,16, kernel_size=3)\n",
    "test = torch.zeros((8,4,256,256))\n",
    "test_unf = torch.nn.functional.unfold(test, (3, 3))\n",
    "weight = torch.randn(size=(16, 4, 3, 3))\n",
    "a = test_unf.transpose(1, 2).matmul(weight.view(weight.size(0), -1).t())\n",
    "print(a.size())\n",
    "print(con_layer.weight.size(), con_layer(test).size(), test.size(), test_unf.size())"
   ]
  },
  {
   "cell_type": "code",
   "execution_count": 10,
   "metadata": {},
   "outputs": [
    {
     "name": "stdout",
     "output_type": "stream",
     "text": [
      "torch.Size([4, 60, 56])\n",
      "torch.Size([4, 2, 56])\n",
      "torch.Size([4, 2, 7, 8])\n"
     ]
    },
    {
     "data": {
      "text/plain": [
       "tensor(5.7220e-06)"
      ]
     },
     "execution_count": 10,
     "metadata": {},
     "output_type": "execute_result"
    }
   ],
   "source": [
    "import torch\n",
    "from torch import nn\n",
    "unfold = nn.Unfold(kernel_size=(2, 3))\n",
    "input = torch.randn(2, 5, 3, 4)\n",
    "output = unfold(input)\n",
    "# each patch contains 30 values (2x3=6 vectors, each of 5 channels)\n",
    "# 4 blocks (2x3 kernels) in total in the 3x4 input\n",
    "# print(input.size(),output.size())\n",
    "\n",
    "# Convolution is equivalent with Unfold + Matrix Multiplication + Fold (or view to output shape)\n",
    "inp = torch.randn(4, 3, 10, 12)\n",
    "w = torch.randn(2, 3, 4, 5)\n",
    "inp_unf = torch.nn.functional.unfold(inp, (4, 5))\n",
    "print(inp_unf.size())\n",
    "out_unf = inp_unf.transpose(1, 2).matmul(w.view(w.size(0), -1).t()).transpose(1, 2)\n",
    "print(out_unf.size())\n",
    "out = torch.nn.functional.fold(out_unf, (7, 8), (1, 1))\n",
    "print(out.size())\n",
    "# or equivalently (and avoiding a copy),\n",
    "# out = out_unf.view(1, 2, 7, 8)\n",
    "(torch.nn.functional.conv2d(inp, w) - out).abs().max()"
   ]
  },
  {
   "cell_type": "code",
   "execution_count": 11,
   "metadata": {},
   "outputs": [
    {
     "data": {
      "text/plain": [
       "torch.Size([60, 2])"
      ]
     },
     "execution_count": 11,
     "metadata": {},
     "output_type": "execute_result"
    }
   ],
   "source": [
    "w.view(w.size(0), -1).t().size()"
   ]
  },
  {
   "cell_type": "code",
   "execution_count": 12,
   "metadata": {},
   "outputs": [],
   "source": [
    "torch.manual_seed(9)\n",
    "def convolution(i, w):\n",
    "\n",
    "    inp_unf = torch.nn.functional.unfold(i, (w.size(2), w.size(3)))\n",
    "    if len(w.size()) == 4:\n",
    "        out_unf = inp_unf.transpose(1, 2).matmul(w.view(w.size(0), -1).t()).transpose(1, 2)\n",
    "    else:\n",
    "        print(\"heuy\", inp_unf.transpose(1, 2).size(), w.view(w.size(0), w.size(1), -1).transpose(1,2).size())\n",
    "        out_unf = inp_unf.transpose(1, 2).matmul(w.view(w.size(0), w.size(1), -1).transpose(1,2)).transpose(1, 2)\n",
    "    out = torch.nn.functional.fold(out_unf, (i.size(2)-w.size(2)+1, i.size(3)-w.size(3)+1), (1, 1))\n",
    "    print(out.size())\n",
    "    return out"
   ]
  },
  {
   "cell_type": "code",
   "execution_count": 13,
   "metadata": {},
   "outputs": [
    {
     "name": "stdout",
     "output_type": "stream",
     "text": [
      "torch.Size([8, 16, 4, 4])\n",
      "tensor([[[[13.7770, 13.7770, 13.7770, 13.7770],\n",
      "          [13.7770, 13.7770, 13.7770, 13.7770],\n",
      "          [13.7770, 13.7770, 13.7770, 13.7770],\n",
      "          [13.7770, 13.7770, 13.7770, 13.7770]],\n",
      "\n",
      "         [[13.0996, 13.0996, 13.0996, 13.0996],\n",
      "          [13.0996, 13.0996, 13.0996, 13.0996],\n",
      "          [13.0996, 13.0996, 13.0996, 13.0996],\n",
      "          [13.0996, 13.0996, 13.0996, 13.0996]],\n",
      "\n",
      "         [[12.6039, 12.6039, 12.6039, 12.6039],\n",
      "          [12.6039, 12.6039, 12.6039, 12.6039],\n",
      "          [12.6039, 12.6039, 12.6039, 12.6039],\n",
      "          [12.6039, 12.6039, 12.6039, 12.6039]],\n",
      "\n",
      "         ...,\n",
      "\n",
      "         [[12.2737, 12.2737, 12.2737, 12.2737],\n",
      "          [12.2737, 12.2737, 12.2737, 12.2737],\n",
      "          [12.2737, 12.2737, 12.2737, 12.2737],\n",
      "          [12.2737, 12.2737, 12.2737, 12.2737]],\n",
      "\n",
      "         [[11.6748, 11.6748, 11.6748, 11.6748],\n",
      "          [11.6748, 11.6748, 11.6748, 11.6748],\n",
      "          [11.6748, 11.6748, 11.6748, 11.6748],\n",
      "          [11.6748, 11.6748, 11.6748, 11.6748]],\n",
      "\n",
      "         [[13.0647, 13.0647, 13.0647, 13.0647],\n",
      "          [13.0647, 13.0647, 13.0647, 13.0647],\n",
      "          [13.0647, 13.0647, 13.0647, 13.0647],\n",
      "          [13.0647, 13.0647, 13.0647, 13.0647]]],\n",
      "\n",
      "\n",
      "        [[[24.4750, 24.4750, 24.4750, 24.4750],\n",
      "          [24.4750, 24.4750, 24.4750, 24.4750],\n",
      "          [24.4750, 24.4750, 24.4750, 24.4750],\n",
      "          [24.4750, 24.4750, 24.4750, 24.4750]],\n",
      "\n",
      "         [[23.7976, 23.7976, 23.7976, 23.7976],\n",
      "          [23.7976, 23.7976, 23.7976, 23.7976],\n",
      "          [23.7976, 23.7976, 23.7976, 23.7976],\n",
      "          [23.7976, 23.7976, 23.7976, 23.7976]],\n",
      "\n",
      "         [[23.3020, 23.3020, 23.3020, 23.3020],\n",
      "          [23.3020, 23.3020, 23.3020, 23.3020],\n",
      "          [23.3020, 23.3020, 23.3020, 23.3020],\n",
      "          [23.3020, 23.3020, 23.3020, 23.3020]],\n",
      "\n",
      "         ...,\n",
      "\n",
      "         [[22.9717, 22.9717, 22.9717, 22.9717],\n",
      "          [22.9717, 22.9717, 22.9717, 22.9717],\n",
      "          [22.9717, 22.9717, 22.9717, 22.9717],\n",
      "          [22.9717, 22.9717, 22.9717, 22.9717]],\n",
      "\n",
      "         [[22.3728, 22.3728, 22.3728, 22.3728],\n",
      "          [22.3728, 22.3728, 22.3728, 22.3728],\n",
      "          [22.3728, 22.3728, 22.3728, 22.3728],\n",
      "          [22.3728, 22.3728, 22.3728, 22.3728]],\n",
      "\n",
      "         [[23.7627, 23.7627, 23.7627, 23.7627],\n",
      "          [23.7627, 23.7627, 23.7627, 23.7627],\n",
      "          [23.7627, 23.7627, 23.7627, 23.7627],\n",
      "          [23.7627, 23.7627, 23.7627, 23.7627]]],\n",
      "\n",
      "\n",
      "        [[[15.1857, 15.1857, 15.1857, 15.1857],\n",
      "          [15.1857, 15.1857, 15.1857, 15.1857],\n",
      "          [15.1857, 15.1857, 15.1857, 15.1857],\n",
      "          [15.1857, 15.1857, 15.1857, 15.1857]],\n",
      "\n",
      "         [[14.5083, 14.5083, 14.5083, 14.5083],\n",
      "          [14.5083, 14.5083, 14.5083, 14.5083],\n",
      "          [14.5083, 14.5083, 14.5083, 14.5083],\n",
      "          [14.5083, 14.5083, 14.5083, 14.5083]],\n",
      "\n",
      "         [[14.0126, 14.0126, 14.0126, 14.0126],\n",
      "          [14.0126, 14.0126, 14.0126, 14.0126],\n",
      "          [14.0126, 14.0126, 14.0126, 14.0126],\n",
      "          [14.0126, 14.0126, 14.0126, 14.0126]],\n",
      "\n",
      "         ...,\n",
      "\n",
      "         [[13.6824, 13.6824, 13.6824, 13.6824],\n",
      "          [13.6824, 13.6824, 13.6824, 13.6824],\n",
      "          [13.6824, 13.6824, 13.6824, 13.6824],\n",
      "          [13.6824, 13.6824, 13.6824, 13.6824]],\n",
      "\n",
      "         [[13.0835, 13.0835, 13.0835, 13.0835],\n",
      "          [13.0835, 13.0835, 13.0835, 13.0835],\n",
      "          [13.0835, 13.0835, 13.0835, 13.0835],\n",
      "          [13.0835, 13.0835, 13.0835, 13.0835]],\n",
      "\n",
      "         [[14.4733, 14.4733, 14.4733, 14.4733],\n",
      "          [14.4733, 14.4733, 14.4733, 14.4733],\n",
      "          [14.4733, 14.4733, 14.4733, 14.4733],\n",
      "          [14.4733, 14.4733, 14.4733, 14.4733]]],\n",
      "\n",
      "\n",
      "        ...,\n",
      "\n",
      "\n",
      "        [[[12.9971, 12.9971, 12.9971, 12.9971],\n",
      "          [12.9971, 12.9971, 12.9971, 12.9971],\n",
      "          [12.9971, 12.9971, 12.9971, 12.9971],\n",
      "          [12.9971, 12.9971, 12.9971, 12.9971]],\n",
      "\n",
      "         [[12.3197, 12.3197, 12.3197, 12.3197],\n",
      "          [12.3197, 12.3197, 12.3197, 12.3197],\n",
      "          [12.3197, 12.3197, 12.3197, 12.3197],\n",
      "          [12.3197, 12.3197, 12.3197, 12.3197]],\n",
      "\n",
      "         [[11.8240, 11.8240, 11.8240, 11.8240],\n",
      "          [11.8240, 11.8240, 11.8240, 11.8240],\n",
      "          [11.8240, 11.8240, 11.8240, 11.8240],\n",
      "          [11.8240, 11.8240, 11.8240, 11.8240]],\n",
      "\n",
      "         ...,\n",
      "\n",
      "         [[11.4938, 11.4938, 11.4938, 11.4938],\n",
      "          [11.4938, 11.4938, 11.4938, 11.4938],\n",
      "          [11.4938, 11.4938, 11.4938, 11.4938],\n",
      "          [11.4938, 11.4938, 11.4938, 11.4938]],\n",
      "\n",
      "         [[10.8949, 10.8949, 10.8949, 10.8949],\n",
      "          [10.8949, 10.8949, 10.8949, 10.8949],\n",
      "          [10.8949, 10.8949, 10.8949, 10.8949],\n",
      "          [10.8949, 10.8949, 10.8949, 10.8949]],\n",
      "\n",
      "         [[12.2848, 12.2848, 12.2848, 12.2848],\n",
      "          [12.2848, 12.2848, 12.2848, 12.2848],\n",
      "          [12.2848, 12.2848, 12.2848, 12.2848],\n",
      "          [12.2848, 12.2848, 12.2848, 12.2848]]],\n",
      "\n",
      "\n",
      "        [[[16.8032, 16.8032, 16.8032, 16.8032],\n",
      "          [16.8032, 16.8032, 16.8032, 16.8032],\n",
      "          [16.8032, 16.8032, 16.8032, 16.8032],\n",
      "          [16.8032, 16.8032, 16.8032, 16.8032]],\n",
      "\n",
      "         [[16.1258, 16.1258, 16.1258, 16.1258],\n",
      "          [16.1258, 16.1258, 16.1258, 16.1258],\n",
      "          [16.1258, 16.1258, 16.1258, 16.1258],\n",
      "          [16.1258, 16.1258, 16.1258, 16.1258]],\n",
      "\n",
      "         [[15.6302, 15.6302, 15.6302, 15.6302],\n",
      "          [15.6302, 15.6302, 15.6302, 15.6302],\n",
      "          [15.6302, 15.6302, 15.6302, 15.6302],\n",
      "          [15.6302, 15.6302, 15.6302, 15.6302]],\n",
      "\n",
      "         ...,\n",
      "\n",
      "         [[15.3000, 15.3000, 15.3000, 15.3000],\n",
      "          [15.3000, 15.3000, 15.3000, 15.3000],\n",
      "          [15.3000, 15.3000, 15.3000, 15.3000],\n",
      "          [15.3000, 15.3000, 15.3000, 15.3000]],\n",
      "\n",
      "         [[14.7011, 14.7011, 14.7011, 14.7011],\n",
      "          [14.7011, 14.7011, 14.7011, 14.7011],\n",
      "          [14.7011, 14.7011, 14.7011, 14.7011],\n",
      "          [14.7011, 14.7011, 14.7011, 14.7011]],\n",
      "\n",
      "         [[16.0909, 16.0909, 16.0909, 16.0909],\n",
      "          [16.0909, 16.0909, 16.0909, 16.0909],\n",
      "          [16.0909, 16.0909, 16.0909, 16.0909],\n",
      "          [16.0909, 16.0909, 16.0909, 16.0909]]],\n",
      "\n",
      "\n",
      "        [[[23.0145, 23.0145, 23.0145, 23.0145],\n",
      "          [23.0145, 23.0145, 23.0145, 23.0145],\n",
      "          [23.0145, 23.0145, 23.0145, 23.0145],\n",
      "          [23.0145, 23.0145, 23.0145, 23.0145]],\n",
      "\n",
      "         [[22.3371, 22.3371, 22.3371, 22.3371],\n",
      "          [22.3371, 22.3371, 22.3371, 22.3371],\n",
      "          [22.3371, 22.3371, 22.3371, 22.3371],\n",
      "          [22.3371, 22.3371, 22.3371, 22.3371]],\n",
      "\n",
      "         [[21.8415, 21.8415, 21.8415, 21.8415],\n",
      "          [21.8415, 21.8415, 21.8415, 21.8415],\n",
      "          [21.8415, 21.8415, 21.8415, 21.8415],\n",
      "          [21.8415, 21.8415, 21.8415, 21.8415]],\n",
      "\n",
      "         ...,\n",
      "\n",
      "         [[21.5112, 21.5112, 21.5112, 21.5112],\n",
      "          [21.5112, 21.5112, 21.5112, 21.5112],\n",
      "          [21.5112, 21.5112, 21.5112, 21.5112],\n",
      "          [21.5112, 21.5112, 21.5112, 21.5112]],\n",
      "\n",
      "         [[20.9124, 20.9124, 20.9124, 20.9124],\n",
      "          [20.9124, 20.9124, 20.9124, 20.9124],\n",
      "          [20.9124, 20.9124, 20.9124, 20.9124],\n",
      "          [20.9124, 20.9124, 20.9124, 20.9124]],\n",
      "\n",
      "         [[22.3022, 22.3022, 22.3022, 22.3022],\n",
      "          [22.3022, 22.3022, 22.3022, 22.3022],\n",
      "          [22.3022, 22.3022, 22.3022, 22.3022],\n",
      "          [22.3022, 22.3022, 22.3022, 22.3022]]]])\n",
      "torch.Size([8, 16, 3, 3, 3])\n",
      "heuy torch.Size([8, 16, 27]) torch.Size([8, 27, 16])\n",
      "torch.Size([8, 16, 4, 4])\n",
      "tensor(0)\n"
     ]
    }
   ],
   "source": [
    "torch.manual_seed(9)\n",
    "i = torch.ones((8,3,6,6))\n",
    "s2 = torch.rand(8,1,3,1,1)\n",
    "s1 = s2.view(8,3,1,1)\n",
    "# print(s)\n",
    "w = torch.ones((16, 3, 3, 3))\n",
    "o1 = convolution(i*s1, w)\n",
    "bias = torch.randn((16,1,1))\n",
    "print(o1+bias)\n",
    "print((s2*w).size())\n",
    "o2 = convolution(i, s2*w)\n",
    "print((~(torch.abs(o1-o2) <1e-3)).sum())"
   ]
  },
  {
   "cell_type": "code",
   "execution_count": 14,
   "metadata": {},
   "outputs": [
    {
     "data": {
      "text/plain": [
       "torch.Size([8, 3, 1, 1, 1])"
      ]
     },
     "execution_count": 14,
     "metadata": {},
     "output_type": "execute_result"
    }
   ],
   "source": [
    "a = torch.randn((8,3,2,1,1))\n",
    "a.square().sum(dim=(2,3,4), keepdim=True).size()"
   ]
  },
  {
   "cell_type": "code",
   "execution_count": 15,
   "metadata": {},
   "outputs": [
    {
     "data": {
      "text/plain": [
       "(tensor([[[[[ 0.3581]],\n",
       " \n",
       "           [[ 0.5669]]],\n",
       " \n",
       " \n",
       "          [[[ 0.0802]],\n",
       " \n",
       "           [[-1.1982]]],\n",
       " \n",
       " \n",
       "          [[[-0.0381]],\n",
       " \n",
       "           [[-0.0890]]]],\n",
       " \n",
       " \n",
       " \n",
       "         [[[[-0.6173]],\n",
       " \n",
       "           [[-0.6526]]],\n",
       " \n",
       " \n",
       "          [[[-2.3320]],\n",
       " \n",
       "           [[ 0.1985]]],\n",
       " \n",
       " \n",
       "          [[[-1.7287]],\n",
       " \n",
       "           [[-0.6561]]]],\n",
       " \n",
       " \n",
       " \n",
       "         [[[[-0.6030]],\n",
       " \n",
       "           [[-1.6146]]],\n",
       " \n",
       " \n",
       "          [[[ 0.3054]],\n",
       " \n",
       "           [[ 1.8163]]],\n",
       " \n",
       " \n",
       "          [[[-0.9805]],\n",
       " \n",
       "           [[ 0.8611]]]],\n",
       " \n",
       " \n",
       " \n",
       "         [[[[-0.3283]],\n",
       " \n",
       "           [[-1.3671]]],\n",
       " \n",
       " \n",
       "          [[[ 0.0633]],\n",
       " \n",
       "           [[ 1.2585]]],\n",
       " \n",
       " \n",
       "          [[[-0.8138]],\n",
       " \n",
       "           [[-1.1117]]]],\n",
       " \n",
       " \n",
       " \n",
       "         [[[[-0.2294]],\n",
       " \n",
       "           [[ 0.1999]]],\n",
       " \n",
       " \n",
       "          [[[ 0.0027]],\n",
       " \n",
       "           [[ 0.6918]]],\n",
       " \n",
       " \n",
       "          [[[ 0.8121]],\n",
       " \n",
       "           [[-0.6082]]]],\n",
       " \n",
       " \n",
       " \n",
       "         [[[[-0.5209]],\n",
       " \n",
       "           [[ 1.6300]]],\n",
       " \n",
       " \n",
       "          [[[-0.0349]],\n",
       " \n",
       "           [[-1.2214]]],\n",
       " \n",
       " \n",
       "          [[[ 0.4809]],\n",
       " \n",
       "           [[ 1.2575]]]],\n",
       " \n",
       " \n",
       " \n",
       "         [[[[-1.1678]],\n",
       " \n",
       "           [[ 0.2885]]],\n",
       " \n",
       " \n",
       "          [[[-1.4786]],\n",
       " \n",
       "           [[ 1.9616]]],\n",
       " \n",
       " \n",
       "          [[[ 0.1131]],\n",
       " \n",
       "           [[ 2.1725]]]],\n",
       " \n",
       " \n",
       " \n",
       "         [[[[ 0.1500]],\n",
       " \n",
       "           [[ 0.0287]]],\n",
       " \n",
       " \n",
       "          [[[ 1.3876]],\n",
       " \n",
       "           [[-0.2692]]],\n",
       " \n",
       " \n",
       "          [[[-0.0204]],\n",
       " \n",
       "           [[ 1.9440]]]]]),\n",
       " tensor([[0.4496, 1.4421, 0.0094],\n",
       "         [0.8069, 5.4774, 3.4189],\n",
       "         [2.9704, 3.3923, 1.7028],\n",
       "         [1.9766, 1.5879, 1.8981],\n",
       "         [0.0926, 0.4787, 1.0294],\n",
       "         [2.9281, 1.4930, 1.8125],\n",
       "         [1.4470, 6.0339, 4.7325],\n",
       "         [0.0233, 1.9978, 3.7797]]))"
      ]
     },
     "execution_count": 15,
     "metadata": {},
     "output_type": "execute_result"
    }
   ],
   "source": [
    "a,a.square().sum(dim=(2,3,4))"
   ]
  },
  {
   "cell_type": "code",
   "execution_count": 16,
   "metadata": {},
   "outputs": [
    {
     "data": {
      "text/plain": [
       "torch.Size([8, 16, 256, 256])"
      ]
     },
     "execution_count": 16,
     "metadata": {},
     "output_type": "execute_result"
    }
   ],
   "source": [
    "from model import ModDemodConv3x3\n",
    "mdconv = ModDemodConv3x3(3, 16)\n",
    "i = torch.ones((8,3,256,256))\n",
    "s = torch.rand(8,3)\n",
    "o=mdconv(i,s)\n",
    "o.size()"
   ]
  },
  {
   "cell_type": "code",
   "execution_count": 17,
   "metadata": {},
   "outputs": [
    {
     "name": "stdout",
     "output_type": "stream",
     "text": [
      "torch.Size([1, 1, 2, 2])\n",
      "torch.Size([1, 1, 4, 4])\n",
      "torch.Size([1, 1, 4, 4])\n"
     ]
    }
   ],
   "source": [
    "input = torch.arange(1, 5, dtype=torch.float32).view(1, 1, 2, 2)\n",
    "print(input.size())\n",
    "\n",
    "m = torch.nn.Upsample(scale_factor=2, mode='nearest')\n",
    "print(m(input).size())\n",
    "\n",
    "m = torch.nn.Upsample(scale_factor=2, mode='bilinear')  \n",
    "print(m(input).size())"
   ]
  },
  {
   "cell_type": "code",
   "execution_count": 18,
   "metadata": {},
   "outputs": [
    {
     "name": "stdout",
     "output_type": "stream",
     "text": [
      "torch.Size([3, 1])\n",
      "torch.Size([3, 4])\n",
      "tensor([[1],\n",
      "        [2],\n",
      "        [3]]) tensor([[1, 1, 1, 1],\n",
      "        [2, 2, 2, 2],\n",
      "        [3, 3, 3, 3]])\n"
     ]
    }
   ],
   "source": [
    "x = torch.tensor([[1], [2], [3]])\n",
    "print(x.size())\n",
    "print(x.repeat(1,4).size())   # -1 means not changing the size of that dimension\n",
    "print(x, x.repeat(1,4))"
   ]
  },
  {
   "cell_type": "markdown",
   "metadata": {},
   "source": []
  },
  {
   "cell_type": "code",
   "execution_count": 19,
   "metadata": {},
   "outputs": [
    {
     "data": {
      "text/plain": [
       "torch.Size([1, 3, 1])"
      ]
     },
     "execution_count": 19,
     "metadata": {},
     "output_type": "execute_result"
    }
   ],
   "source": [
    "x.unsqueeze(0).size()"
   ]
  },
  {
   "cell_type": "code",
   "execution_count": 20,
   "metadata": {},
   "outputs": [
    {
     "data": {
      "text/plain": [
       "torch.Size([])"
      ]
     },
     "execution_count": 20,
     "metadata": {},
     "output_type": "execute_result"
    }
   ],
   "source": [
    "torch.zeros([]).size()"
   ]
  },
  {
   "cell_type": "code",
   "execution_count": 21,
   "metadata": {},
   "outputs": [],
   "source": [
    "noise_scaling_factor = torch.tensor([2])\n",
    "noise = torch.randn((1,1,4,4))"
   ]
  },
  {
   "cell_type": "code",
   "execution_count": 22,
   "metadata": {},
   "outputs": [
    {
     "data": {
      "text/plain": [
       "(tensor([[[[-0.8339,  0.0774, -0.1816, -1.2314],\n",
       "           [-1.9383,  1.8579,  1.1635, -0.3830],\n",
       "           [-0.7162,  0.1926, -0.0437,  1.2684],\n",
       "           [-0.5551, -0.1982,  2.1788,  0.2799]]]]),\n",
       " tensor([[[[-1.6678,  0.1548, -0.3631, -2.4628],\n",
       "           [-3.8767,  3.7157,  2.3270, -0.7661],\n",
       "           [-1.4324,  0.3852, -0.0874,  2.5368],\n",
       "           [-1.1103, -0.3964,  4.3576,  0.5599]]]]),\n",
       " torch.Size([1]))"
      ]
     },
     "execution_count": 22,
     "metadata": {},
     "output_type": "execute_result"
    }
   ],
   "source": [
    "noise, noise_scaling_factor * noise, noise_scaling_factor.size()"
   ]
  },
  {
   "cell_type": "code",
   "execution_count": 23,
   "metadata": {},
   "outputs": [
    {
     "data": {
      "text/plain": [
       "tensor([[[[-0., 0., -0., -0.],\n",
       "          [-0., 0., 0., -0.],\n",
       "          [-0., 0., -0., 0.],\n",
       "          [-0., -0., 0., 0.]]]])"
      ]
     },
     "execution_count": 23,
     "metadata": {},
     "output_type": "execute_result"
    }
   ],
   "source": [
    "torch.zeros((1))*noise"
   ]
  },
  {
   "cell_type": "code",
   "execution_count": 24,
   "metadata": {},
   "outputs": [
    {
     "data": {
      "text/plain": [
       "(torch.Size([8, 3, 4, 4]), torch.Size([8, 3, 8, 8]))"
      ]
     },
     "execution_count": 24,
     "metadata": {},
     "output_type": "execute_result"
    }
   ],
   "source": [
    "upsample = torch.nn.Upsample(scale_factor=2, mode=\"bilinear\")\n",
    "inp = torch.randn(8,3,4,4)\n",
    "inp.size(), upsample(inp).size()"
   ]
  },
  {
   "cell_type": "code",
   "execution_count": 25,
   "metadata": {},
   "outputs": [
    {
     "data": {
      "text/plain": [
       "(torch.Size([16, 3, 3, 3]), torch.Size([16]))"
      ]
     },
     "execution_count": 25,
     "metadata": {},
     "output_type": "execute_result"
    }
   ],
   "source": [
    "layer = torch.nn.Conv2d(3,16,3)\n",
    "layer.weight.size(), layer.bias.size()"
   ]
  },
  {
   "cell_type": "code",
   "execution_count": 26,
   "metadata": {},
   "outputs": [],
   "source": [
    "inp = torch.randn((8,3,16,16))"
   ]
  },
  {
   "cell_type": "code",
   "execution_count": 27,
   "metadata": {},
   "outputs": [
    {
     "data": {
      "text/plain": [
       "torch.Size([8, 16, 14, 14])"
      ]
     },
     "execution_count": 27,
     "metadata": {},
     "output_type": "execute_result"
    }
   ],
   "source": [
    "layer(inp).size()"
   ]
  },
  {
   "cell_type": "code",
   "execution_count": 28,
   "metadata": {},
   "outputs": [
    {
     "name": "stdout",
     "output_type": "stream",
     "text": [
      "torch.Size([8, 512])\n",
      "torch.Size([8, 64, 4, 4])\n"
     ]
    },
    {
     "ename": "RuntimeError",
     "evalue": "Failed to run torchinfo. See above stack traces for more details. Executed layers up to: [Sequential: 1, Linear: 2, LeakyReLU: 2, Linear: 2, LeakyReLU: 2, Linear: 2, LeakyReLU: 2, Linear: 2, LeakyReLU: 2, Linear: 2, LeakyReLU: 2, Linear: 2, LeakyReLU: 2, Linear: 2, LeakyReLU: 2, Linear: 2, Linear: 3, Linear: 3, Linear: 3, ModDemodConv3x3: 3]",
     "output_type": "error",
     "traceback": [
      "\u001b[0;31m---------------------------------------------------------------------------\u001b[0m",
      "\u001b[0;31mRuntimeError\u001b[0m                              Traceback (most recent call last)",
      "\u001b[0;32m~/anaconda3/envs/histo/lib/python3.7/site-packages/torchinfo/torchinfo.py\u001b[0m in \u001b[0;36mforward_pass\u001b[0;34m(model, x, batch_dim, cache_forward_pass, device, mode, **kwargs)\u001b[0m\n\u001b[1;32m    295\u001b[0m             \u001b[0;32mif\u001b[0m \u001b[0misinstance\u001b[0m\u001b[0;34m(\u001b[0m\u001b[0mx\u001b[0m\u001b[0;34m,\u001b[0m \u001b[0;34m(\u001b[0m\u001b[0mlist\u001b[0m\u001b[0;34m,\u001b[0m \u001b[0mtuple\u001b[0m\u001b[0;34m)\u001b[0m\u001b[0;34m)\u001b[0m\u001b[0;34m:\u001b[0m\u001b[0;34m\u001b[0m\u001b[0;34m\u001b[0m\u001b[0m\n\u001b[0;32m--> 296\u001b[0;31m                 \u001b[0m_\u001b[0m \u001b[0;34m=\u001b[0m \u001b[0mmodel\u001b[0m\u001b[0;34m.\u001b[0m\u001b[0mto\u001b[0m\u001b[0;34m(\u001b[0m\u001b[0mdevice\u001b[0m\u001b[0;34m)\u001b[0m\u001b[0;34m(\u001b[0m\u001b[0;34m*\u001b[0m\u001b[0mx\u001b[0m\u001b[0;34m,\u001b[0m \u001b[0;34m**\u001b[0m\u001b[0mkwargs\u001b[0m\u001b[0;34m)\u001b[0m\u001b[0;34m\u001b[0m\u001b[0;34m\u001b[0m\u001b[0m\n\u001b[0m\u001b[1;32m    297\u001b[0m             \u001b[0;32melif\u001b[0m \u001b[0misinstance\u001b[0m\u001b[0;34m(\u001b[0m\u001b[0mx\u001b[0m\u001b[0;34m,\u001b[0m \u001b[0mdict\u001b[0m\u001b[0;34m)\u001b[0m\u001b[0;34m:\u001b[0m\u001b[0;34m\u001b[0m\u001b[0;34m\u001b[0m\u001b[0m\n",
      "\u001b[0;32m~/anaconda3/envs/histo/lib/python3.7/site-packages/torch/nn/modules/module.py\u001b[0m in \u001b[0;36m_call_impl\u001b[0;34m(self, *input, **kwargs)\u001b[0m\n\u001b[1;32m   1109\u001b[0m                 or _global_forward_hooks or _global_forward_pre_hooks):\n\u001b[0;32m-> 1110\u001b[0;31m             \u001b[0;32mreturn\u001b[0m \u001b[0mforward_call\u001b[0m\u001b[0;34m(\u001b[0m\u001b[0;34m*\u001b[0m\u001b[0minput\u001b[0m\u001b[0;34m,\u001b[0m \u001b[0;34m**\u001b[0m\u001b[0mkwargs\u001b[0m\u001b[0;34m)\u001b[0m\u001b[0;34m\u001b[0m\u001b[0;34m\u001b[0m\u001b[0m\n\u001b[0m\u001b[1;32m   1111\u001b[0m         \u001b[0;31m# Do not call functions when jit is used\u001b[0m\u001b[0;34m\u001b[0m\u001b[0;34m\u001b[0m\u001b[0;34m\u001b[0m\u001b[0m\n",
      "\u001b[0;32m~/git/HistoGAN/model.py\u001b[0m in \u001b[0;36mforward\u001b[0;34m(self, z, target_img, train)\u001b[0m\n\u001b[1;32m    178\u001b[0m         \u001b[0;32mfor\u001b[0m \u001b[0mi\u001b[0m\u001b[0;34m,\u001b[0m \u001b[0mstylegan2_block\u001b[0m \u001b[0;32min\u001b[0m \u001b[0menumerate\u001b[0m\u001b[0;34m(\u001b[0m\u001b[0mself\u001b[0m\u001b[0;34m.\u001b[0m\u001b[0mstylegan2_blocks\u001b[0m\u001b[0;34m[\u001b[0m\u001b[0;34m:\u001b[0m\u001b[0;34m-\u001b[0m\u001b[0;36m1\u001b[0m\u001b[0;34m]\u001b[0m\u001b[0;34m)\u001b[0m\u001b[0;34m:\u001b[0m\u001b[0;34m\u001b[0m\u001b[0;34m\u001b[0m\u001b[0m\n\u001b[0;32m--> 179\u001b[0;31m             \u001b[0mfm\u001b[0m\u001b[0;34m,\u001b[0m \u001b[0mrgb\u001b[0m \u001b[0;34m=\u001b[0m \u001b[0mstylegan2_block\u001b[0m\u001b[0;34m(\u001b[0m\u001b[0mfm\u001b[0m\u001b[0;34m,\u001b[0m \u001b[0mw\u001b[0m\u001b[0;34m)\u001b[0m\u001b[0;34m\u001b[0m\u001b[0;34m\u001b[0m\u001b[0m\n\u001b[0m\u001b[1;32m    180\u001b[0m             \u001b[0mfm\u001b[0m \u001b[0;34m=\u001b[0m \u001b[0mself\u001b[0m\u001b[0;34m.\u001b[0m\u001b[0mupsample\u001b[0m\u001b[0;34m(\u001b[0m\u001b[0mfm\u001b[0m\u001b[0;34m)\u001b[0m\u001b[0;34m\u001b[0m\u001b[0;34m\u001b[0m\u001b[0m\n",
      "\u001b[0;32m~/anaconda3/envs/histo/lib/python3.7/site-packages/torch/nn/modules/module.py\u001b[0m in \u001b[0;36m_call_impl\u001b[0;34m(self, *input, **kwargs)\u001b[0m\n\u001b[1;32m   1127\u001b[0m \u001b[0;34m\u001b[0m\u001b[0m\n\u001b[0;32m-> 1128\u001b[0;31m         \u001b[0mresult\u001b[0m \u001b[0;34m=\u001b[0m \u001b[0mforward_call\u001b[0m\u001b[0;34m(\u001b[0m\u001b[0;34m*\u001b[0m\u001b[0minput\u001b[0m\u001b[0;34m,\u001b[0m \u001b[0;34m**\u001b[0m\u001b[0mkwargs\u001b[0m\u001b[0;34m)\u001b[0m\u001b[0;34m\u001b[0m\u001b[0;34m\u001b[0m\u001b[0m\n\u001b[0m\u001b[1;32m   1129\u001b[0m         \u001b[0;32mif\u001b[0m \u001b[0m_global_forward_hooks\u001b[0m \u001b[0;32mor\u001b[0m \u001b[0mself\u001b[0m\u001b[0;34m.\u001b[0m\u001b[0m_forward_hooks\u001b[0m\u001b[0;34m:\u001b[0m\u001b[0;34m\u001b[0m\u001b[0;34m\u001b[0m\u001b[0m\n",
      "\u001b[0;32m~/git/HistoGAN/model.py\u001b[0m in \u001b[0;36mforward\u001b[0;34m(self, fm, w)\u001b[0m\n\u001b[1;32m    129\u001b[0m         \u001b[0;31m# if bias is not reshaped gives error, this version can broadcast to batch\u001b[0m\u001b[0;34m\u001b[0m\u001b[0;34m\u001b[0m\u001b[0;34m\u001b[0m\u001b[0m\n\u001b[0;32m--> 130\u001b[0;31m         \u001b[0mout\u001b[0m \u001b[0;34m=\u001b[0m \u001b[0mself\u001b[0m\u001b[0;34m.\u001b[0m\u001b[0mmd3x3_1\u001b[0m\u001b[0;34m(\u001b[0m\u001b[0mfm\u001b[0m\u001b[0;34m,\u001b[0m \u001b[0mstyle_1\u001b[0m\u001b[0;34m)\u001b[0m \u001b[0;34m+\u001b[0m \u001b[0mself\u001b[0m\u001b[0;34m.\u001b[0m\u001b[0mnoise_scaling_factor_1\u001b[0m \u001b[0;34m*\u001b[0m \u001b[0mnoise_1\u001b[0m \u001b[0;34m+\u001b[0m \u001b[0mself\u001b[0m\u001b[0;34m.\u001b[0m\u001b[0mbias_1\u001b[0m\u001b[0;34m.\u001b[0m\u001b[0mview\u001b[0m\u001b[0;34m(\u001b[0m\u001b[0;34m-\u001b[0m\u001b[0;36m1\u001b[0m\u001b[0;34m,\u001b[0m\u001b[0;36m1\u001b[0m\u001b[0;34m,\u001b[0m\u001b[0;36m1\u001b[0m\u001b[0;34m)\u001b[0m\u001b[0;34m\u001b[0m\u001b[0;34m\u001b[0m\u001b[0m\n\u001b[0m\u001b[1;32m    131\u001b[0m         \u001b[0mout\u001b[0m \u001b[0;34m=\u001b[0m \u001b[0mself\u001b[0m\u001b[0;34m.\u001b[0m\u001b[0mlrelu\u001b[0m\u001b[0;34m(\u001b[0m\u001b[0mout\u001b[0m\u001b[0;34m)\u001b[0m\u001b[0;34m\u001b[0m\u001b[0;34m\u001b[0m\u001b[0m\n",
      "\u001b[0;31mRuntimeError\u001b[0m: Expected all tensors to be on the same device, but found at least two devices, cuda:0 and cpu!",
      "\nThe above exception was the direct cause of the following exception:\n",
      "\u001b[0;31mRuntimeError\u001b[0m                              Traceback (most recent call last)",
      "\u001b[0;32m/tmp/ipykernel_17902/137691157.py\u001b[0m in \u001b[0;36m<module>\u001b[0;34m\u001b[0m\n\u001b[1;32m      4\u001b[0m \u001b[0;34m\u001b[0m\u001b[0m\n\u001b[1;32m      5\u001b[0m \u001b[0mhistogan\u001b[0m \u001b[0;34m=\u001b[0m \u001b[0mHistoGAN\u001b[0m\u001b[0;34m(\u001b[0m\u001b[0;34m)\u001b[0m\u001b[0;34m\u001b[0m\u001b[0;34m\u001b[0m\u001b[0m\n\u001b[0;32m----> 6\u001b[0;31m \u001b[0msummary\u001b[0m\u001b[0;34m(\u001b[0m\u001b[0mhistogan\u001b[0m\u001b[0;34m,\u001b[0m \u001b[0;34m[\u001b[0m\u001b[0;34m(\u001b[0m\u001b[0;36m8\u001b[0m\u001b[0;34m,\u001b[0m \u001b[0;36m512\u001b[0m\u001b[0;34m)\u001b[0m\u001b[0;34m,\u001b[0m \u001b[0;34m(\u001b[0m\u001b[0;36m8\u001b[0m\u001b[0;34m,\u001b[0m \u001b[0;36m3\u001b[0m\u001b[0;34m,\u001b[0m \u001b[0;36m256\u001b[0m\u001b[0;34m,\u001b[0m \u001b[0;36m256\u001b[0m\u001b[0;34m)\u001b[0m\u001b[0;34m]\u001b[0m\u001b[0;34m)\u001b[0m\u001b[0;34m\u001b[0m\u001b[0;34m\u001b[0m\u001b[0m\n\u001b[0m",
      "\u001b[0;32m~/anaconda3/envs/histo/lib/python3.7/site-packages/torchinfo/torchinfo.py\u001b[0m in \u001b[0;36msummary\u001b[0;34m(model, input_size, input_data, batch_dim, cache_forward_pass, col_names, col_width, depth, device, dtypes, mode, row_settings, verbose, **kwargs)\u001b[0m\n\u001b[1;32m    216\u001b[0m     )\n\u001b[1;32m    217\u001b[0m     summary_list = forward_pass(\n\u001b[0;32m--> 218\u001b[0;31m         \u001b[0mmodel\u001b[0m\u001b[0;34m,\u001b[0m \u001b[0mx\u001b[0m\u001b[0;34m,\u001b[0m \u001b[0mbatch_dim\u001b[0m\u001b[0;34m,\u001b[0m \u001b[0mcache_forward_pass\u001b[0m\u001b[0;34m,\u001b[0m \u001b[0mdevice\u001b[0m\u001b[0;34m,\u001b[0m \u001b[0mmodel_mode\u001b[0m\u001b[0;34m,\u001b[0m \u001b[0;34m**\u001b[0m\u001b[0mkwargs\u001b[0m\u001b[0;34m\u001b[0m\u001b[0;34m\u001b[0m\u001b[0m\n\u001b[0m\u001b[1;32m    219\u001b[0m     )\n\u001b[1;32m    220\u001b[0m     \u001b[0mformatting\u001b[0m \u001b[0;34m=\u001b[0m \u001b[0mFormattingOptions\u001b[0m\u001b[0;34m(\u001b[0m\u001b[0mdepth\u001b[0m\u001b[0;34m,\u001b[0m \u001b[0mverbose\u001b[0m\u001b[0;34m,\u001b[0m \u001b[0mcolumns\u001b[0m\u001b[0;34m,\u001b[0m \u001b[0mcol_width\u001b[0m\u001b[0;34m,\u001b[0m \u001b[0mrows\u001b[0m\u001b[0;34m)\u001b[0m\u001b[0;34m\u001b[0m\u001b[0;34m\u001b[0m\u001b[0m\n",
      "\u001b[0;32m~/anaconda3/envs/histo/lib/python3.7/site-packages/torchinfo/torchinfo.py\u001b[0m in \u001b[0;36mforward_pass\u001b[0;34m(model, x, batch_dim, cache_forward_pass, device, mode, **kwargs)\u001b[0m\n\u001b[1;32m    306\u001b[0m             \u001b[0;34m\"Failed to run torchinfo. See above stack traces for more details. \"\u001b[0m\u001b[0;34m\u001b[0m\u001b[0;34m\u001b[0m\u001b[0m\n\u001b[1;32m    307\u001b[0m             \u001b[0;34mf\"Executed layers up to: {executed_layers}\"\u001b[0m\u001b[0;34m\u001b[0m\u001b[0;34m\u001b[0m\u001b[0m\n\u001b[0;32m--> 308\u001b[0;31m         ) from e\n\u001b[0m\u001b[1;32m    309\u001b[0m     \u001b[0;32mfinally\u001b[0m\u001b[0;34m:\u001b[0m\u001b[0;34m\u001b[0m\u001b[0;34m\u001b[0m\u001b[0m\n\u001b[1;32m    310\u001b[0m         \u001b[0;32mif\u001b[0m \u001b[0mhooks\u001b[0m \u001b[0;32mis\u001b[0m \u001b[0;32mnot\u001b[0m \u001b[0;32mNone\u001b[0m\u001b[0;34m:\u001b[0m\u001b[0;34m\u001b[0m\u001b[0;34m\u001b[0m\u001b[0m\n",
      "\u001b[0;31mRuntimeError\u001b[0m: Failed to run torchinfo. See above stack traces for more details. Executed layers up to: [Sequential: 1, Linear: 2, LeakyReLU: 2, Linear: 2, LeakyReLU: 2, Linear: 2, LeakyReLU: 2, Linear: 2, LeakyReLU: 2, Linear: 2, LeakyReLU: 2, Linear: 2, LeakyReLU: 2, Linear: 2, LeakyReLU: 2, Linear: 2, Linear: 3, Linear: 3, Linear: 3, ModDemodConv3x3: 3]"
     ]
    }
   ],
   "source": [
    "import torch\n",
    "from model import HistoGAN\n",
    "from torchinfo import summary\n",
    "\n",
    "histogan = HistoGAN()\n",
    "summary(histogan, [(8, 512), (8, 3, 256, 256)])"
   ]
  },
  {
   "cell_type": "code",
   "execution_count": null,
   "metadata": {},
   "outputs": [],
   "source": [
    "# from data import AnimeFacesDataset\n",
    "# from torchvision.transforms import Resize\n",
    "# resize = Resize((256,256))\n",
    "# image_dir = \"images\"\n",
    "# dataset = AnimeFacesDataset(image_dir)"
   ]
  },
  {
   "cell_type": "code",
   "execution_count": null,
   "metadata": {},
   "outputs": [],
   "source": [
    "# dataset[0].size()"
   ]
  },
  {
   "cell_type": "code",
   "execution_count": 38,
   "metadata": {},
   "outputs": [],
   "source": [
    "batch = torch.arange(4).view(4, 1)\n",
    "# batch = batch.repeat(1,4)\n",
    "# select 5 samples randomly\n",
    "for i in range(4):\n",
    "    idx = torch.randperm(4)[:2]\n",
    "    mini_batch = batch[idx]\n",
    "    a = torch.rand(1)"
   ]
  },
  {
   "cell_type": "code",
   "execution_count": 39,
   "metadata": {},
   "outputs": [
    {
     "data": {
      "text/plain": [
       "(tensor([[3],\n",
       "         [2]]),\n",
       " tensor([[0],\n",
       "         [1],\n",
       "         [2],\n",
       "         [3]]))"
      ]
     },
     "execution_count": 39,
     "metadata": {},
     "output_type": "execute_result"
    }
   ],
   "source": [
    "batch.size()\n",
    "idx\n",
    "mini_batch, batch"
   ]
  },
  {
   "cell_type": "code",
   "execution_count": 45,
   "metadata": {},
   "outputs": [
    {
     "data": {
      "text/plain": [
       "(tensor([[[[0.6037]]],\n",
       " \n",
       " \n",
       "         [[[0.9881]]],\n",
       " \n",
       " \n",
       "         [[[0.9928]]],\n",
       " \n",
       " \n",
       "         [[[0.8181]]]]),\n",
       " tensor([[[[0.3963]]],\n",
       " \n",
       " \n",
       "         [[[0.0119]]],\n",
       " \n",
       " \n",
       "         [[[0.0072]]],\n",
       " \n",
       " \n",
       "         [[[0.1819]]]]))"
      ]
     },
     "execution_count": 45,
     "metadata": {},
     "output_type": "execute_result"
    }
   ],
   "source": [
    "a = torch.rand((4,1,1,1))\n",
    "a, 1-a"
   ]
  },
  {
   "cell_type": "code",
   "execution_count": null,
   "metadata": {},
   "outputs": [],
   "source": []
  }
 ],
 "metadata": {
  "interpreter": {
   "hash": "0f6dd8c1d7576cf0de48aad06b0e935e2de8273eecf0f787202423f6355e44ee"
  },
  "kernelspec": {
   "display_name": "Python 3.7.13 ('myenv')",
   "language": "python",
   "name": "python3"
  },
  "language_info": {
   "codemirror_mode": {
    "name": "ipython",
    "version": 3
   },
   "file_extension": ".py",
   "mimetype": "text/x-python",
   "name": "python",
   "nbconvert_exporter": "python",
   "pygments_lexer": "ipython3",
   "version": "3.7.13"
  },
  "orig_nbformat": 4
 },
 "nbformat": 4,
 "nbformat_minor": 2
}
