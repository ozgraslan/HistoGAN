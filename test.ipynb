{
 "cells": [
  {
   "cell_type": "code",
   "execution_count": 37,
   "metadata": {},
   "outputs": [
    {
     "name": "stdout",
     "output_type": "stream",
     "text": [
      "The autoreload extension is already loaded. To reload it, use:\n",
      "  %reload_ext autoreload\n"
     ]
    }
   ],
   "source": [
    "%load_ext autoreload\n",
    "%autoreload 2"
   ]
  },
  {
   "cell_type": "code",
   "execution_count": 38,
   "metadata": {},
   "outputs": [],
   "source": [
    "from model import ResidualBlock, Discriminator\n",
    "import torchvision\n",
    "import torch\n",
    "\n",
    "image = torchvision.transforms.Resize(256)(torchvision.io.read_image(\"face.jpg\").float()).unsqueeze(0)"
   ]
  },
  {
   "cell_type": "code",
   "execution_count": 3,
   "metadata": {},
   "outputs": [
    {
     "data": {
      "text/plain": [
       "torch.Size([1, 3, 256, 256])"
      ]
     },
     "execution_count": 3,
     "metadata": {},
     "output_type": "execute_result"
    }
   ],
   "source": [
    "image.size()"
   ]
  },
  {
   "cell_type": "code",
   "execution_count": 4,
   "metadata": {},
   "outputs": [],
   "source": [
    "rb = ResidualBlock(3, 16)"
   ]
  },
  {
   "cell_type": "code",
   "execution_count": 5,
   "metadata": {},
   "outputs": [
    {
     "data": {
      "text/plain": [
       "torch.Size([1, 16, 128, 128])"
      ]
     },
     "execution_count": 5,
     "metadata": {},
     "output_type": "execute_result"
    }
   ],
   "source": [
    "out = rb(image)\n",
    "out.size()"
   ]
  },
  {
   "cell_type": "code",
   "execution_count": 6,
   "metadata": {},
   "outputs": [],
   "source": [
    "d = Discriminator(7, 16)"
   ]
  },
  {
   "cell_type": "code",
   "execution_count": 7,
   "metadata": {},
   "outputs": [
    {
     "name": "stdout",
     "output_type": "stream",
     "text": [
      "torch.Size([1, 3, 256, 256])\n"
     ]
    },
    {
     "data": {
      "text/plain": [
       "tensor([[0.4998]], grad_fn=<SigmoidBackward0>)"
      ]
     },
     "execution_count": 7,
     "metadata": {},
     "output_type": "execute_result"
    }
   ],
   "source": [
    "print(image.size())\n",
    "d(image)"
   ]
  },
  {
   "cell_type": "code",
   "execution_count": 8,
   "metadata": {},
   "outputs": [
    {
     "data": {
      "text/plain": [
       "torch.Size([8, 1])"
      ]
     },
     "execution_count": 8,
     "metadata": {},
     "output_type": "execute_result"
    }
   ],
   "source": [
    "test = torch.zeros((8,3,256,256))\n",
    "d(test).size()"
   ]
  },
  {
   "cell_type": "code",
   "execution_count": 9,
   "metadata": {},
   "outputs": [
    {
     "name": "stdout",
     "output_type": "stream",
     "text": [
      "torch.Size([8, 64516, 16])\n",
      "torch.Size([16, 4, 3, 3]) torch.Size([8, 16, 254, 254]) torch.Size([8, 4, 256, 256]) torch.Size([8, 36, 64516])\n"
     ]
    }
   ],
   "source": [
    "import torch\n",
    "torch.manual_seed(9)\n",
    "#layer = torch.nn.Linear(1, 4)\n",
    "# layer.weight *= 4 inplace operations on leaf variables does not work\n",
    "\n",
    "con_layer = torch.nn.Conv2d(4,16, kernel_size=3)\n",
    "test = torch.zeros((8,4,256,256))\n",
    "test_unf = torch.nn.functional.unfold(test, (3, 3))\n",
    "weight = torch.randn(size=(16, 4, 3, 3))\n",
    "a = test_unf.transpose(1, 2).matmul(weight.view(weight.size(0), -1).t())\n",
    "print(a.size())\n",
    "print(con_layer.weight.size(), con_layer(test).size(), test.size(), test_unf.size())"
   ]
  },
  {
   "cell_type": "code",
   "execution_count": 10,
   "metadata": {},
   "outputs": [
    {
     "name": "stdout",
     "output_type": "stream",
     "text": [
      "torch.Size([4, 60, 56])\n",
      "torch.Size([4, 2, 56])\n",
      "torch.Size([4, 2, 7, 8])\n"
     ]
    },
    {
     "data": {
      "text/plain": [
       "tensor(5.7220e-06)"
      ]
     },
     "execution_count": 10,
     "metadata": {},
     "output_type": "execute_result"
    }
   ],
   "source": [
    "import torch\n",
    "from torch import nn\n",
    "unfold = nn.Unfold(kernel_size=(2, 3))\n",
    "input = torch.randn(2, 5, 3, 4)\n",
    "output = unfold(input)\n",
    "# each patch contains 30 values (2x3=6 vectors, each of 5 channels)\n",
    "# 4 blocks (2x3 kernels) in total in the 3x4 input\n",
    "# print(input.size(),output.size())\n",
    "\n",
    "# Convolution is equivalent with Unfold + Matrix Multiplication + Fold (or view to output shape)\n",
    "inp = torch.randn(4, 3, 10, 12)\n",
    "w = torch.randn(2, 3, 4, 5)\n",
    "inp_unf = torch.nn.functional.unfold(inp, (4, 5))\n",
    "print(inp_unf.size())\n",
    "out_unf = inp_unf.transpose(1, 2).matmul(w.view(w.size(0), -1).t()).transpose(1, 2)\n",
    "print(out_unf.size())\n",
    "out = torch.nn.functional.fold(out_unf, (7, 8), (1, 1))\n",
    "print(out.size())\n",
    "# or equivalently (and avoiding a copy),\n",
    "# out = out_unf.view(1, 2, 7, 8)\n",
    "(torch.nn.functional.conv2d(inp, w) - out).abs().max()"
   ]
  },
  {
   "cell_type": "code",
   "execution_count": 11,
   "metadata": {},
   "outputs": [
    {
     "data": {
      "text/plain": [
       "torch.Size([60, 2])"
      ]
     },
     "execution_count": 11,
     "metadata": {},
     "output_type": "execute_result"
    }
   ],
   "source": [
    "w.view(w.size(0), -1).t().size()"
   ]
  },
  {
   "cell_type": "code",
   "execution_count": 59,
   "metadata": {},
   "outputs": [],
   "source": [
    "torch.manual_seed(9)\n",
    "def convolution(inp, weight, padding=0, stride=1):\n",
    "    print(padding, stride)\n",
    "    # Implementaion of convolution operation using torch.unfold \n",
    "    # Taken from https://pytorch.org/docs/stable/generated/torch.nn.Unfold.html\n",
    "    # Changed such that it can work with batch of styles\n",
    "    # After the operation the output feature maps' spatial size should be the same as the input, therefore padding=1\n",
    "    inp_unf = torch.nn.functional.unfold(inp, (weight.size(-1), weight.size(-1)), padding=(padding, padding), stride=(stride, stride)) \n",
    "    if len(weight.size()) == 4:\n",
    "        out_unf = inp_unf.transpose(1, 2).matmul(weight.view(weight.size(0), -1).t()).transpose(1, 2)\n",
    "        outsize1 = int(1+(inp.size(2)+2*padding -weight.size(2))/stride) \n",
    "        outsize2 = int(1+(inp.size(3)+2*padding -weight.size(3))/stride) \n",
    "    else:\n",
    "        out_unf = inp_unf.transpose(1, 2).matmul(weight.view(weight.size(0), weight.size(1), -1).transpose(1,2)).transpose(1, 2)\n",
    "        outsize1 = int(1+(inp.size(2)+2*padding -weight.size(3))/stride) \n",
    "        outsize2 = int(1+(inp.size(3)+2*padding -weight.size(4))/stride) \n",
    "\n",
    "    out = torch.nn.functional.fold(out_unf, (outsize1, outsize2), (1, 1))\n",
    "    return out    "
   ]
  },
  {
   "cell_type": "code",
   "execution_count": 61,
   "metadata": {},
   "outputs": [
    {
     "name": "stdout",
     "output_type": "stream",
     "text": [
      "1 1\n",
      "torch.Size([2, 16, 7, 7])\n",
      "torch.Size([16, 7, 7])\n",
      "tensor(0)\n"
     ]
    }
   ],
   "source": [
    "torch.manual_seed(9)\n",
    "i = torch.ones((2,3,7,7))\n",
    "s2 = torch.rand(2,1,3,1,1)\n",
    "# s1 = s2.view(8,3,1,1)\n",
    "# # print(s)\n",
    "w = torch.ones((16, 3, 3, 3))\n",
    "# o1 = convolution(i*s1, w, 1, 1)\n",
    "# bias = torch.randn((16,1,1))\n",
    "# #print(o1+bias)\n",
    "# print((s2*w).size())\n",
    "o2 = convolution(i, s2*w.unsqueeze(0), 1, 1)\n",
    "print(o2.size())\n",
    "# print((~(torch.abs(o1-o2) <1e-3)).sum())\n",
    "o3 = torch.nn.functional.conv2d(i[1], (w.unsqueeze(0)*s2)[1], stride=1, padding=1)\n",
    "print(o3.size())\n",
    "print((~(torch.abs(o3-o2[1]) <1e-3)).sum())"
   ]
  },
  {
   "cell_type": "code",
   "execution_count": 45,
   "metadata": {},
   "outputs": [
    {
     "data": {
      "text/plain": [
       "torch.Size([8, 3, 1, 1, 1])"
      ]
     },
     "execution_count": 45,
     "metadata": {},
     "output_type": "execute_result"
    }
   ],
   "source": [
    "a = torch.randn((8,3,2,1,1))\n",
    "a.square().sum(dim=(2,3,4), keepdim=True).size()"
   ]
  },
  {
   "cell_type": "code",
   "execution_count": 15,
   "metadata": {},
   "outputs": [
    {
     "data": {
      "text/plain": [
       "(tensor([[[[[ 0.3581]],\n",
       " \n",
       "           [[ 0.5669]]],\n",
       " \n",
       " \n",
       "          [[[ 0.0802]],\n",
       " \n",
       "           [[-1.1982]]],\n",
       " \n",
       " \n",
       "          [[[-0.0381]],\n",
       " \n",
       "           [[-0.0890]]]],\n",
       " \n",
       " \n",
       " \n",
       "         [[[[-0.6173]],\n",
       " \n",
       "           [[-0.6526]]],\n",
       " \n",
       " \n",
       "          [[[-2.3320]],\n",
       " \n",
       "           [[ 0.1985]]],\n",
       " \n",
       " \n",
       "          [[[-1.7287]],\n",
       " \n",
       "           [[-0.6561]]]],\n",
       " \n",
       " \n",
       " \n",
       "         [[[[-0.6030]],\n",
       " \n",
       "           [[-1.6146]]],\n",
       " \n",
       " \n",
       "          [[[ 0.3054]],\n",
       " \n",
       "           [[ 1.8163]]],\n",
       " \n",
       " \n",
       "          [[[-0.9805]],\n",
       " \n",
       "           [[ 0.8611]]]],\n",
       " \n",
       " \n",
       " \n",
       "         [[[[-0.3283]],\n",
       " \n",
       "           [[-1.3671]]],\n",
       " \n",
       " \n",
       "          [[[ 0.0633]],\n",
       " \n",
       "           [[ 1.2585]]],\n",
       " \n",
       " \n",
       "          [[[-0.8138]],\n",
       " \n",
       "           [[-1.1117]]]],\n",
       " \n",
       " \n",
       " \n",
       "         [[[[-0.2294]],\n",
       " \n",
       "           [[ 0.1999]]],\n",
       " \n",
       " \n",
       "          [[[ 0.0027]],\n",
       " \n",
       "           [[ 0.6918]]],\n",
       " \n",
       " \n",
       "          [[[ 0.8121]],\n",
       " \n",
       "           [[-0.6082]]]],\n",
       " \n",
       " \n",
       " \n",
       "         [[[[-0.5209]],\n",
       " \n",
       "           [[ 1.6300]]],\n",
       " \n",
       " \n",
       "          [[[-0.0349]],\n",
       " \n",
       "           [[-1.2214]]],\n",
       " \n",
       " \n",
       "          [[[ 0.4809]],\n",
       " \n",
       "           [[ 1.2575]]]],\n",
       " \n",
       " \n",
       " \n",
       "         [[[[-1.1678]],\n",
       " \n",
       "           [[ 0.2885]]],\n",
       " \n",
       " \n",
       "          [[[-1.4786]],\n",
       " \n",
       "           [[ 1.9616]]],\n",
       " \n",
       " \n",
       "          [[[ 0.1131]],\n",
       " \n",
       "           [[ 2.1725]]]],\n",
       " \n",
       " \n",
       " \n",
       "         [[[[ 0.1500]],\n",
       " \n",
       "           [[ 0.0287]]],\n",
       " \n",
       " \n",
       "          [[[ 1.3876]],\n",
       " \n",
       "           [[-0.2692]]],\n",
       " \n",
       " \n",
       "          [[[-0.0204]],\n",
       " \n",
       "           [[ 1.9440]]]]]),\n",
       " tensor([[0.4496, 1.4421, 0.0094],\n",
       "         [0.8069, 5.4774, 3.4189],\n",
       "         [2.9704, 3.3923, 1.7028],\n",
       "         [1.9766, 1.5879, 1.8981],\n",
       "         [0.0926, 0.4787, 1.0294],\n",
       "         [2.9281, 1.4930, 1.8125],\n",
       "         [1.4470, 6.0339, 4.7325],\n",
       "         [0.0233, 1.9978, 3.7797]]))"
      ]
     },
     "execution_count": 15,
     "metadata": {},
     "output_type": "execute_result"
    }
   ],
   "source": [
    "a,a.square().sum(dim=(2,3,4))"
   ]
  },
  {
   "cell_type": "code",
   "execution_count": 16,
   "metadata": {},
   "outputs": [
    {
     "data": {
      "text/plain": [
       "torch.Size([8, 16, 256, 256])"
      ]
     },
     "execution_count": 16,
     "metadata": {},
     "output_type": "execute_result"
    }
   ],
   "source": [
    "from model import ModDemodConv3x3\n",
    "mdconv = ModDemodConv3x3(3, 16)\n",
    "i = torch.ones((8,3,256,256))\n",
    "s = torch.rand(8,3)\n",
    "o=mdconv(i,s)\n",
    "o.size()"
   ]
  },
  {
   "cell_type": "code",
   "execution_count": 17,
   "metadata": {},
   "outputs": [
    {
     "name": "stdout",
     "output_type": "stream",
     "text": [
      "torch.Size([1, 1, 2, 2])\n",
      "torch.Size([1, 1, 4, 4])\n",
      "torch.Size([1, 1, 4, 4])\n"
     ]
    }
   ],
   "source": [
    "input = torch.arange(1, 5, dtype=torch.float32).view(1, 1, 2, 2)\n",
    "print(input.size())\n",
    "\n",
    "m = torch.nn.Upsample(scale_factor=2, mode='nearest')\n",
    "print(m(input).size())\n",
    "\n",
    "m = torch.nn.Upsample(scale_factor=2, mode='bilinear')  \n",
    "print(m(input).size())"
   ]
  },
  {
   "cell_type": "code",
   "execution_count": 18,
   "metadata": {},
   "outputs": [
    {
     "name": "stdout",
     "output_type": "stream",
     "text": [
      "torch.Size([3, 1])\n",
      "torch.Size([3, 4])\n",
      "tensor([[1],\n",
      "        [2],\n",
      "        [3]]) tensor([[1, 1, 1, 1],\n",
      "        [2, 2, 2, 2],\n",
      "        [3, 3, 3, 3]])\n"
     ]
    }
   ],
   "source": [
    "x = torch.tensor([[1], [2], [3]])\n",
    "print(x.size())\n",
    "print(x.repeat(1,4).size())   # -1 means not changing the size of that dimension\n",
    "print(x, x.repeat(1,4))"
   ]
  },
  {
   "cell_type": "markdown",
   "metadata": {},
   "source": []
  },
  {
   "cell_type": "code",
   "execution_count": 19,
   "metadata": {},
   "outputs": [
    {
     "data": {
      "text/plain": [
       "torch.Size([1, 3, 1])"
      ]
     },
     "execution_count": 19,
     "metadata": {},
     "output_type": "execute_result"
    }
   ],
   "source": [
    "x.unsqueeze(0).size()"
   ]
  },
  {
   "cell_type": "code",
   "execution_count": 20,
   "metadata": {},
   "outputs": [
    {
     "data": {
      "text/plain": [
       "torch.Size([])"
      ]
     },
     "execution_count": 20,
     "metadata": {},
     "output_type": "execute_result"
    }
   ],
   "source": [
    "torch.zeros([]).size()"
   ]
  },
  {
   "cell_type": "code",
   "execution_count": 21,
   "metadata": {},
   "outputs": [],
   "source": [
    "noise_scaling_factor = torch.tensor([2])\n",
    "noise = torch.randn((1,1,4,4))"
   ]
  },
  {
   "cell_type": "code",
   "execution_count": 22,
   "metadata": {},
   "outputs": [
    {
     "data": {
      "text/plain": [
       "(tensor([[[[-0.8339,  0.0774, -0.1816, -1.2314],\n",
       "           [-1.9383,  1.8579,  1.1635, -0.3830],\n",
       "           [-0.7162,  0.1926, -0.0437,  1.2684],\n",
       "           [-0.5551, -0.1982,  2.1788,  0.2799]]]]),\n",
       " tensor([[[[-1.6678,  0.1548, -0.3631, -2.4628],\n",
       "           [-3.8767,  3.7157,  2.3270, -0.7661],\n",
       "           [-1.4324,  0.3852, -0.0874,  2.5368],\n",
       "           [-1.1103, -0.3964,  4.3576,  0.5599]]]]),\n",
       " torch.Size([1]))"
      ]
     },
     "execution_count": 22,
     "metadata": {},
     "output_type": "execute_result"
    }
   ],
   "source": [
    "noise, noise_scaling_factor * noise, noise_scaling_factor.size()"
   ]
  },
  {
   "cell_type": "code",
   "execution_count": 23,
   "metadata": {},
   "outputs": [
    {
     "data": {
      "text/plain": [
       "tensor([[[[-0., 0., -0., -0.],\n",
       "          [-0., 0., 0., -0.],\n",
       "          [-0., 0., -0., 0.],\n",
       "          [-0., -0., 0., 0.]]]])"
      ]
     },
     "execution_count": 23,
     "metadata": {},
     "output_type": "execute_result"
    }
   ],
   "source": [
    "torch.zeros((1))*noise"
   ]
  },
  {
   "cell_type": "code",
   "execution_count": 24,
   "metadata": {},
   "outputs": [
    {
     "data": {
      "text/plain": [
       "(torch.Size([8, 3, 4, 4]), torch.Size([8, 3, 8, 8]))"
      ]
     },
     "execution_count": 24,
     "metadata": {},
     "output_type": "execute_result"
    }
   ],
   "source": [
    "upsample = torch.nn.Upsample(scale_factor=2, mode=\"bilinear\")\n",
    "inp = torch.randn(8,3,4,4)\n",
    "inp.size(), upsample(inp).size()"
   ]
  },
  {
   "cell_type": "code",
   "execution_count": 25,
   "metadata": {},
   "outputs": [
    {
     "data": {
      "text/plain": [
       "(torch.Size([16, 3, 3, 3]), torch.Size([16]))"
      ]
     },
     "execution_count": 25,
     "metadata": {},
     "output_type": "execute_result"
    }
   ],
   "source": [
    "layer = torch.nn.Conv2d(3,16,3)\n",
    "layer.weight.size(), layer.bias.size()"
   ]
  },
  {
   "cell_type": "code",
   "execution_count": 26,
   "metadata": {},
   "outputs": [],
   "source": [
    "inp = torch.randn((8,3,16,16))"
   ]
  },
  {
   "cell_type": "code",
   "execution_count": 27,
   "metadata": {},
   "outputs": [
    {
     "data": {
      "text/plain": [
       "torch.Size([8, 16, 14, 14])"
      ]
     },
     "execution_count": 27,
     "metadata": {},
     "output_type": "execute_result"
    }
   ],
   "source": [
    "layer(inp).size()"
   ]
  },
  {
   "cell_type": "code",
   "execution_count": 38,
   "metadata": {},
   "outputs": [],
   "source": [
    "batch = torch.arange(4).view(4, 1)\n",
    "# batch = batch.repeat(1,4)\n",
    "# select 5 samples randomly\n",
    "for i in range(4):\n",
    "    idx = torch.randperm(4)[:2]\n",
    "    mini_batch = batch[idx]\n",
    "    a = torch.rand(1)"
   ]
  },
  {
   "cell_type": "code",
   "execution_count": 39,
   "metadata": {},
   "outputs": [
    {
     "data": {
      "text/plain": [
       "(tensor([[3],\n",
       "         [2]]),\n",
       " tensor([[0],\n",
       "         [1],\n",
       "         [2],\n",
       "         [3]]))"
      ]
     },
     "execution_count": 39,
     "metadata": {},
     "output_type": "execute_result"
    }
   ],
   "source": [
    "batch.size()\n",
    "idx\n",
    "mini_batch, batch"
   ]
  },
  {
   "cell_type": "code",
   "execution_count": 45,
   "metadata": {},
   "outputs": [
    {
     "data": {
      "text/plain": [
       "(tensor([[[[0.6037]]],\n",
       " \n",
       " \n",
       "         [[[0.9881]]],\n",
       " \n",
       " \n",
       "         [[[0.9928]]],\n",
       " \n",
       " \n",
       "         [[[0.8181]]]]),\n",
       " tensor([[[[0.3963]]],\n",
       " \n",
       " \n",
       "         [[[0.0119]]],\n",
       " \n",
       " \n",
       "         [[[0.0072]]],\n",
       " \n",
       " \n",
       "         [[[0.1819]]]]))"
      ]
     },
     "execution_count": 45,
     "metadata": {},
     "output_type": "execute_result"
    }
   ],
   "source": [
    "a = torch.rand((4,1,1,1))\n",
    "a, 1-a"
   ]
  }
 ],
 "metadata": {
  "interpreter": {
   "hash": "0f6dd8c1d7576cf0de48aad06b0e935e2de8273eecf0f787202423f6355e44ee"
  },
  "kernelspec": {
   "display_name": "Python 3.7.13 ('myenv')",
   "language": "python",
   "name": "python3"
  },
  "language_info": {
   "codemirror_mode": {
    "name": "ipython",
    "version": 3
   },
   "file_extension": ".py",
   "mimetype": "text/x-python",
   "name": "python",
   "nbconvert_exporter": "python",
   "pygments_lexer": "ipython3",
   "version": "3.7.13"
  },
  "orig_nbformat": 4
 },
 "nbformat": 4,
 "nbformat_minor": 2
}
