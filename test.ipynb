{
 "cells": [
  {
   "cell_type": "code",
   "execution_count": 1,
   "metadata": {},
   "outputs": [],
   "source": [
    "from model import ResidualBlock, Discriminator\n",
    "import torchvision\n",
    "import torch\n",
    "\n",
    "image = torchvision.transforms.Resize(256)(torchvision.io.read_image(\"face.jpg\").float()).unsqueeze(0)"
   ]
  },
  {
   "cell_type": "code",
   "execution_count": 2,
   "metadata": {},
   "outputs": [
    {
     "data": {
      "text/plain": [
       "torch.Size([1, 3, 256, 256])"
      ]
     },
     "execution_count": 2,
     "metadata": {},
     "output_type": "execute_result"
    }
   ],
   "source": [
    "image.size()"
   ]
  },
  {
   "cell_type": "code",
   "execution_count": 3,
   "metadata": {},
   "outputs": [],
   "source": [
    "rb = ResidualBlock(3, 16)"
   ]
  },
  {
   "cell_type": "code",
   "execution_count": 4,
   "metadata": {},
   "outputs": [
    {
     "data": {
      "text/plain": [
       "torch.Size([1, 16, 128, 128])"
      ]
     },
     "execution_count": 4,
     "metadata": {},
     "output_type": "execute_result"
    }
   ],
   "source": [
    "out = rb(image)\n",
    "out.size()"
   ]
  },
  {
   "cell_type": "code",
   "execution_count": 5,
   "metadata": {},
   "outputs": [],
   "source": [
    "d = Discriminator(7, 16)"
   ]
  },
  {
   "cell_type": "code",
   "execution_count": 6,
   "metadata": {},
   "outputs": [
    {
     "name": "stdout",
     "output_type": "stream",
     "text": [
      "torch.Size([1, 3, 256, 256])\n"
     ]
    },
    {
     "data": {
      "text/plain": [
       "tensor([[0.0526]], grad_fn=<AddmmBackward0>)"
      ]
     },
     "execution_count": 6,
     "metadata": {},
     "output_type": "execute_result"
    }
   ],
   "source": [
    "print(image.size())\n",
    "d(image)"
   ]
  },
  {
   "cell_type": "code",
   "execution_count": 7,
   "metadata": {},
   "outputs": [
    {
     "data": {
      "text/plain": [
       "torch.Size([8, 1])"
      ]
     },
     "execution_count": 7,
     "metadata": {},
     "output_type": "execute_result"
    }
   ],
   "source": [
    "test = torch.zeros((8,3,256,256))\n",
    "d(test).size()"
   ]
  },
  {
   "cell_type": "code",
   "execution_count": 8,
   "metadata": {},
   "outputs": [
    {
     "name": "stdout",
     "output_type": "stream",
     "text": [
      "torch.Size([8, 64516, 16])\n",
      "torch.Size([16, 4, 3, 3]) torch.Size([8, 16, 254, 254]) torch.Size([8, 4, 256, 256]) torch.Size([8, 36, 64516])\n"
     ]
    }
   ],
   "source": [
    "import torch\n",
    "torch.manual_seed(9)\n",
    "#layer = torch.nn.Linear(1, 4)\n",
    "# layer.weight *= 4 inplace operations on leaf variables does not work\n",
    "\n",
    "con_layer = torch.nn.Conv2d(4,16, kernel_size=3)\n",
    "test = torch.zeros((8,4,256,256))\n",
    "test_unf = torch.nn.functional.unfold(test, (3, 3))\n",
    "weight = torch.randn(size=(16, 4, 3, 3))\n",
    "a = test_unf.transpose(1, 2).matmul(weight.view(weight.size(0), -1).t())\n",
    "print(a.size())\n",
    "print(con_layer.weight.size(), con_layer(test).size(), test.size(), test_unf.size())"
   ]
  },
  {
   "cell_type": "code",
   "execution_count": 9,
   "metadata": {},
   "outputs": [
    {
     "name": "stdout",
     "output_type": "stream",
     "text": [
      "torch.Size([4, 60, 56])\n",
      "torch.Size([4, 2, 56])\n",
      "torch.Size([4, 2, 7, 8])\n"
     ]
    },
    {
     "data": {
      "text/plain": [
       "tensor(5.7220e-06)"
      ]
     },
     "execution_count": 9,
     "metadata": {},
     "output_type": "execute_result"
    }
   ],
   "source": [
    "import torch\n",
    "from torch import nn\n",
    "unfold = nn.Unfold(kernel_size=(2, 3))\n",
    "input = torch.randn(2, 5, 3, 4)\n",
    "output = unfold(input)\n",
    "# each patch contains 30 values (2x3=6 vectors, each of 5 channels)\n",
    "# 4 blocks (2x3 kernels) in total in the 3x4 input\n",
    "# print(input.size(),output.size())\n",
    "\n",
    "# Convolution is equivalent with Unfold + Matrix Multiplication + Fold (or view to output shape)\n",
    "inp = torch.randn(4, 3, 10, 12)\n",
    "w = torch.randn(2, 3, 4, 5)\n",
    "inp_unf = torch.nn.functional.unfold(inp, (4, 5))\n",
    "print(inp_unf.size())\n",
    "out_unf = inp_unf.transpose(1, 2).matmul(w.view(w.size(0), -1).t()).transpose(1, 2)\n",
    "print(out_unf.size())\n",
    "out = torch.nn.functional.fold(out_unf, (7, 8), (1, 1))\n",
    "print(out.size())\n",
    "# or equivalently (and avoiding a copy),\n",
    "# out = out_unf.view(1, 2, 7, 8)\n",
    "(torch.nn.functional.conv2d(inp, w) - out).abs().max()"
   ]
  },
  {
   "cell_type": "code",
   "execution_count": 10,
   "metadata": {},
   "outputs": [
    {
     "data": {
      "text/plain": [
       "torch.Size([60, 2])"
      ]
     },
     "execution_count": 10,
     "metadata": {},
     "output_type": "execute_result"
    }
   ],
   "source": [
    "w.view(w.size(0), -1).t().size()"
   ]
  },
  {
   "cell_type": "code",
   "execution_count": 51,
   "metadata": {},
   "outputs": [],
   "source": [
    "torch.manual_seed(9)\n",
    "def convolution(i, w):\n",
    "\n",
    "    inp_unf = torch.nn.functional.unfold(i, (w.size(2), w.size(3)))\n",
    "    if len(w.size()) == 4:\n",
    "        out_unf = inp_unf.transpose(1, 2).matmul(w.view(w.size(0), -1).t()).transpose(1, 2)\n",
    "    else:\n",
    "        out_unf = inp_unf.transpose(1, 2).matmul(w.view(w.size(0), w.size(1), -1).transpose(1,2)).transpose(1, 2)\n",
    "    out = torch.nn.functional.fold(out_unf, (i.size(2)-w.size(2)+1, i.size(3)-w.size(3)+1), (1, 1))\n",
    "    print(out.size())\n",
    "    return out"
   ]
  },
  {
   "cell_type": "code",
   "execution_count": 53,
   "metadata": {},
   "outputs": [
    {
     "name": "stdout",
     "output_type": "stream",
     "text": [
      "torch.Size([8, 16, 4, 4])\n",
      "tensor([[[[13.7770, 13.7770, 13.7770, 13.7770],\n",
      "          [13.7770, 13.7770, 13.7770, 13.7770],\n",
      "          [13.7770, 13.7770, 13.7770, 13.7770],\n",
      "          [13.7770, 13.7770, 13.7770, 13.7770]],\n",
      "\n",
      "         [[13.0996, 13.0996, 13.0996, 13.0996],\n",
      "          [13.0996, 13.0996, 13.0996, 13.0996],\n",
      "          [13.0996, 13.0996, 13.0996, 13.0996],\n",
      "          [13.0996, 13.0996, 13.0996, 13.0996]],\n",
      "\n",
      "         [[12.6039, 12.6039, 12.6039, 12.6039],\n",
      "          [12.6039, 12.6039, 12.6039, 12.6039],\n",
      "          [12.6039, 12.6039, 12.6039, 12.6039],\n",
      "          [12.6039, 12.6039, 12.6039, 12.6039]],\n",
      "\n",
      "         ...,\n",
      "\n",
      "         [[12.2737, 12.2737, 12.2737, 12.2737],\n",
      "          [12.2737, 12.2737, 12.2737, 12.2737],\n",
      "          [12.2737, 12.2737, 12.2737, 12.2737],\n",
      "          [12.2737, 12.2737, 12.2737, 12.2737]],\n",
      "\n",
      "         [[11.6748, 11.6748, 11.6748, 11.6748],\n",
      "          [11.6748, 11.6748, 11.6748, 11.6748],\n",
      "          [11.6748, 11.6748, 11.6748, 11.6748],\n",
      "          [11.6748, 11.6748, 11.6748, 11.6748]],\n",
      "\n",
      "         [[13.0647, 13.0647, 13.0647, 13.0647],\n",
      "          [13.0647, 13.0647, 13.0647, 13.0647],\n",
      "          [13.0647, 13.0647, 13.0647, 13.0647],\n",
      "          [13.0647, 13.0647, 13.0647, 13.0647]]],\n",
      "\n",
      "\n",
      "        [[[24.4750, 24.4750, 24.4750, 24.4750],\n",
      "          [24.4750, 24.4750, 24.4750, 24.4750],\n",
      "          [24.4750, 24.4750, 24.4750, 24.4750],\n",
      "          [24.4750, 24.4750, 24.4750, 24.4750]],\n",
      "\n",
      "         [[23.7976, 23.7976, 23.7976, 23.7976],\n",
      "          [23.7976, 23.7976, 23.7976, 23.7976],\n",
      "          [23.7976, 23.7976, 23.7976, 23.7976],\n",
      "          [23.7976, 23.7976, 23.7976, 23.7976]],\n",
      "\n",
      "         [[23.3020, 23.3020, 23.3020, 23.3020],\n",
      "          [23.3020, 23.3020, 23.3020, 23.3020],\n",
      "          [23.3020, 23.3020, 23.3020, 23.3020],\n",
      "          [23.3020, 23.3020, 23.3020, 23.3020]],\n",
      "\n",
      "         ...,\n",
      "\n",
      "         [[22.9717, 22.9717, 22.9717, 22.9717],\n",
      "          [22.9717, 22.9717, 22.9717, 22.9717],\n",
      "          [22.9717, 22.9717, 22.9717, 22.9717],\n",
      "          [22.9717, 22.9717, 22.9717, 22.9717]],\n",
      "\n",
      "         [[22.3728, 22.3728, 22.3728, 22.3728],\n",
      "          [22.3728, 22.3728, 22.3728, 22.3728],\n",
      "          [22.3728, 22.3728, 22.3728, 22.3728],\n",
      "          [22.3728, 22.3728, 22.3728, 22.3728]],\n",
      "\n",
      "         [[23.7627, 23.7627, 23.7627, 23.7627],\n",
      "          [23.7627, 23.7627, 23.7627, 23.7627],\n",
      "          [23.7627, 23.7627, 23.7627, 23.7627],\n",
      "          [23.7627, 23.7627, 23.7627, 23.7627]]],\n",
      "\n",
      "\n",
      "        [[[15.1857, 15.1857, 15.1857, 15.1857],\n",
      "          [15.1857, 15.1857, 15.1857, 15.1857],\n",
      "          [15.1857, 15.1857, 15.1857, 15.1857],\n",
      "          [15.1857, 15.1857, 15.1857, 15.1857]],\n",
      "\n",
      "         [[14.5083, 14.5083, 14.5083, 14.5083],\n",
      "          [14.5083, 14.5083, 14.5083, 14.5083],\n",
      "          [14.5083, 14.5083, 14.5083, 14.5083],\n",
      "          [14.5083, 14.5083, 14.5083, 14.5083]],\n",
      "\n",
      "         [[14.0126, 14.0126, 14.0126, 14.0126],\n",
      "          [14.0126, 14.0126, 14.0126, 14.0126],\n",
      "          [14.0126, 14.0126, 14.0126, 14.0126],\n",
      "          [14.0126, 14.0126, 14.0126, 14.0126]],\n",
      "\n",
      "         ...,\n",
      "\n",
      "         [[13.6824, 13.6824, 13.6824, 13.6824],\n",
      "          [13.6824, 13.6824, 13.6824, 13.6824],\n",
      "          [13.6824, 13.6824, 13.6824, 13.6824],\n",
      "          [13.6824, 13.6824, 13.6824, 13.6824]],\n",
      "\n",
      "         [[13.0835, 13.0835, 13.0835, 13.0835],\n",
      "          [13.0835, 13.0835, 13.0835, 13.0835],\n",
      "          [13.0835, 13.0835, 13.0835, 13.0835],\n",
      "          [13.0835, 13.0835, 13.0835, 13.0835]],\n",
      "\n",
      "         [[14.4733, 14.4733, 14.4733, 14.4733],\n",
      "          [14.4733, 14.4733, 14.4733, 14.4733],\n",
      "          [14.4733, 14.4733, 14.4733, 14.4733],\n",
      "          [14.4733, 14.4733, 14.4733, 14.4733]]],\n",
      "\n",
      "\n",
      "        ...,\n",
      "\n",
      "\n",
      "        [[[12.9971, 12.9971, 12.9971, 12.9971],\n",
      "          [12.9971, 12.9971, 12.9971, 12.9971],\n",
      "          [12.9971, 12.9971, 12.9971, 12.9971],\n",
      "          [12.9971, 12.9971, 12.9971, 12.9971]],\n",
      "\n",
      "         [[12.3197, 12.3197, 12.3197, 12.3197],\n",
      "          [12.3197, 12.3197, 12.3197, 12.3197],\n",
      "          [12.3197, 12.3197, 12.3197, 12.3197],\n",
      "          [12.3197, 12.3197, 12.3197, 12.3197]],\n",
      "\n",
      "         [[11.8240, 11.8240, 11.8240, 11.8240],\n",
      "          [11.8240, 11.8240, 11.8240, 11.8240],\n",
      "          [11.8240, 11.8240, 11.8240, 11.8240],\n",
      "          [11.8240, 11.8240, 11.8240, 11.8240]],\n",
      "\n",
      "         ...,\n",
      "\n",
      "         [[11.4938, 11.4938, 11.4938, 11.4938],\n",
      "          [11.4938, 11.4938, 11.4938, 11.4938],\n",
      "          [11.4938, 11.4938, 11.4938, 11.4938],\n",
      "          [11.4938, 11.4938, 11.4938, 11.4938]],\n",
      "\n",
      "         [[10.8949, 10.8949, 10.8949, 10.8949],\n",
      "          [10.8949, 10.8949, 10.8949, 10.8949],\n",
      "          [10.8949, 10.8949, 10.8949, 10.8949],\n",
      "          [10.8949, 10.8949, 10.8949, 10.8949]],\n",
      "\n",
      "         [[12.2848, 12.2848, 12.2848, 12.2848],\n",
      "          [12.2848, 12.2848, 12.2848, 12.2848],\n",
      "          [12.2848, 12.2848, 12.2848, 12.2848],\n",
      "          [12.2848, 12.2848, 12.2848, 12.2848]]],\n",
      "\n",
      "\n",
      "        [[[16.8032, 16.8032, 16.8032, 16.8032],\n",
      "          [16.8032, 16.8032, 16.8032, 16.8032],\n",
      "          [16.8032, 16.8032, 16.8032, 16.8032],\n",
      "          [16.8032, 16.8032, 16.8032, 16.8032]],\n",
      "\n",
      "         [[16.1258, 16.1258, 16.1258, 16.1258],\n",
      "          [16.1258, 16.1258, 16.1258, 16.1258],\n",
      "          [16.1258, 16.1258, 16.1258, 16.1258],\n",
      "          [16.1258, 16.1258, 16.1258, 16.1258]],\n",
      "\n",
      "         [[15.6302, 15.6302, 15.6302, 15.6302],\n",
      "          [15.6302, 15.6302, 15.6302, 15.6302],\n",
      "          [15.6302, 15.6302, 15.6302, 15.6302],\n",
      "          [15.6302, 15.6302, 15.6302, 15.6302]],\n",
      "\n",
      "         ...,\n",
      "\n",
      "         [[15.3000, 15.3000, 15.3000, 15.3000],\n",
      "          [15.3000, 15.3000, 15.3000, 15.3000],\n",
      "          [15.3000, 15.3000, 15.3000, 15.3000],\n",
      "          [15.3000, 15.3000, 15.3000, 15.3000]],\n",
      "\n",
      "         [[14.7011, 14.7011, 14.7011, 14.7011],\n",
      "          [14.7011, 14.7011, 14.7011, 14.7011],\n",
      "          [14.7011, 14.7011, 14.7011, 14.7011],\n",
      "          [14.7011, 14.7011, 14.7011, 14.7011]],\n",
      "\n",
      "         [[16.0909, 16.0909, 16.0909, 16.0909],\n",
      "          [16.0909, 16.0909, 16.0909, 16.0909],\n",
      "          [16.0909, 16.0909, 16.0909, 16.0909],\n",
      "          [16.0909, 16.0909, 16.0909, 16.0909]]],\n",
      "\n",
      "\n",
      "        [[[23.0145, 23.0145, 23.0145, 23.0145],\n",
      "          [23.0145, 23.0145, 23.0145, 23.0145],\n",
      "          [23.0145, 23.0145, 23.0145, 23.0145],\n",
      "          [23.0145, 23.0145, 23.0145, 23.0145]],\n",
      "\n",
      "         [[22.3371, 22.3371, 22.3371, 22.3371],\n",
      "          [22.3371, 22.3371, 22.3371, 22.3371],\n",
      "          [22.3371, 22.3371, 22.3371, 22.3371],\n",
      "          [22.3371, 22.3371, 22.3371, 22.3371]],\n",
      "\n",
      "         [[21.8415, 21.8415, 21.8415, 21.8415],\n",
      "          [21.8415, 21.8415, 21.8415, 21.8415],\n",
      "          [21.8415, 21.8415, 21.8415, 21.8415],\n",
      "          [21.8415, 21.8415, 21.8415, 21.8415]],\n",
      "\n",
      "         ...,\n",
      "\n",
      "         [[21.5112, 21.5112, 21.5112, 21.5112],\n",
      "          [21.5112, 21.5112, 21.5112, 21.5112],\n",
      "          [21.5112, 21.5112, 21.5112, 21.5112],\n",
      "          [21.5112, 21.5112, 21.5112, 21.5112]],\n",
      "\n",
      "         [[20.9124, 20.9124, 20.9124, 20.9124],\n",
      "          [20.9124, 20.9124, 20.9124, 20.9124],\n",
      "          [20.9124, 20.9124, 20.9124, 20.9124],\n",
      "          [20.9124, 20.9124, 20.9124, 20.9124]],\n",
      "\n",
      "         [[22.3022, 22.3022, 22.3022, 22.3022],\n",
      "          [22.3022, 22.3022, 22.3022, 22.3022],\n",
      "          [22.3022, 22.3022, 22.3022, 22.3022],\n",
      "          [22.3022, 22.3022, 22.3022, 22.3022]]]])\n",
      "torch.Size([8, 16, 4, 4])\n",
      "tensor(0)\n"
     ]
    }
   ],
   "source": [
    "torch.manual_seed(9)\n",
    "i = torch.ones((8,3,6,6))\n",
    "s2 = torch.rand(8,1,3,1,1)\n",
    "s1 = s2.view(8,3,1,1)\n",
    "# print(s)\n",
    "w = torch.ones((16, 3, 3, 3))\n",
    "o1 = convolution(i*s1, w)\n",
    "bias = torch.randn((16,1,1))\n",
    "print(o1+bias)\n",
    "o2 = convolution(i, s2*w)\n",
    "print((~(torch.abs(o1-o2) <1e-3)).sum())"
   ]
  },
  {
   "cell_type": "code",
   "execution_count": 14,
   "metadata": {},
   "outputs": [
    {
     "data": {
      "text/plain": [
       "torch.Size([8, 3, 1, 1, 1])"
      ]
     },
     "execution_count": 14,
     "metadata": {},
     "output_type": "execute_result"
    }
   ],
   "source": [
    "a = torch.randn((8,3,2,1,1))\n",
    "a.square().sum(dim=(2,3,4), keepdim=True).size()"
   ]
  },
  {
   "cell_type": "code",
   "execution_count": 16,
   "metadata": {},
   "outputs": [
    {
     "data": {
      "text/plain": [
       "(tensor([[[[[ 0.9826]],\n",
       " \n",
       "           [[ 1.3936]]],\n",
       " \n",
       " \n",
       "          [[[-0.5419]],\n",
       " \n",
       "           [[-0.4245]]],\n",
       " \n",
       " \n",
       "          [[[ 0.4435]],\n",
       " \n",
       "           [[-0.5365]]]],\n",
       " \n",
       " \n",
       " \n",
       "         [[[[-1.4623]],\n",
       " \n",
       "           [[-0.8552]]],\n",
       " \n",
       " \n",
       "          [[[ 1.7615]],\n",
       " \n",
       "           [[ 0.0027]]],\n",
       " \n",
       " \n",
       "          [[[ 1.0803]],\n",
       " \n",
       "           [[-1.9376]]]],\n",
       " \n",
       " \n",
       " \n",
       "         [[[[-0.5748]],\n",
       " \n",
       "           [[ 0.4349]]],\n",
       " \n",
       " \n",
       "          [[[-1.6585]],\n",
       " \n",
       "           [[ 1.2364]]],\n",
       " \n",
       " \n",
       "          [[[ 1.2487]],\n",
       " \n",
       "           [[-0.7758]]]],\n",
       " \n",
       " \n",
       " \n",
       "         [[[[-0.6506]],\n",
       " \n",
       "           [[ 1.0455]]],\n",
       " \n",
       " \n",
       "          [[[ 0.9524]],\n",
       " \n",
       "           [[ 1.4272]]],\n",
       " \n",
       " \n",
       "          [[[ 0.2012]],\n",
       " \n",
       "           [[-0.9011]]]],\n",
       " \n",
       " \n",
       " \n",
       "         [[[[-0.1297]],\n",
       " \n",
       "           [[ 1.0740]]],\n",
       " \n",
       " \n",
       "          [[[-0.7193]],\n",
       " \n",
       "           [[ 1.0961]]],\n",
       " \n",
       " \n",
       "          [[[-0.1835]],\n",
       " \n",
       "           [[ 0.7050]]]],\n",
       " \n",
       " \n",
       " \n",
       "         [[[[-1.0667]],\n",
       " \n",
       "           [[ 0.2605]]],\n",
       " \n",
       " \n",
       "          [[[-0.5587]],\n",
       " \n",
       "           [[-0.7631]]],\n",
       " \n",
       " \n",
       "          [[[ 0.9615]],\n",
       " \n",
       "           [[-0.4455]]]],\n",
       " \n",
       " \n",
       " \n",
       "         [[[[-1.0621]],\n",
       " \n",
       "           [[ 0.2867]]],\n",
       " \n",
       " \n",
       "          [[[ 0.1153]],\n",
       " \n",
       "           [[ 0.9901]]],\n",
       " \n",
       " \n",
       "          [[[-0.8335]],\n",
       " \n",
       "           [[-0.0615]]]],\n",
       " \n",
       " \n",
       " \n",
       "         [[[[-0.9855]],\n",
       " \n",
       "           [[ 0.2620]]],\n",
       " \n",
       " \n",
       "          [[[ 1.3328]],\n",
       " \n",
       "           [[ 0.0801]]],\n",
       " \n",
       " \n",
       "          [[[-0.0780]],\n",
       " \n",
       "           [[ 1.8654]]]]]),\n",
       " tensor([[2.9075, 0.4739, 0.4846],\n",
       "         [2.8697, 3.1029, 4.9215],\n",
       "         [0.5196, 4.2794, 2.1611],\n",
       "         [1.5164, 2.9441, 0.8525],\n",
       "         [1.1704, 1.7188, 0.5307],\n",
       "         [1.2057, 0.8945, 1.1230],\n",
       "         [1.2103, 0.9936, 0.6985],\n",
       "         [1.0399, 1.7827, 3.4860]]))"
      ]
     },
     "execution_count": 16,
     "metadata": {},
     "output_type": "execute_result"
    }
   ],
   "source": [
    "a,a.square().sum(dim=(2,3,4))"
   ]
  },
  {
   "cell_type": "code",
   "execution_count": 17,
   "metadata": {},
   "outputs": [
    {
     "name": "stdout",
     "output_type": "stream",
     "text": [
      "torch.Size([8, 16, 3, 3, 3])\n",
      "torch.Size([8, 16, 1, 1, 1])\n",
      "torch.Size([8, 16, 3, 3, 3])\n"
     ]
    },
    {
     "data": {
      "text/plain": [
       "torch.Size([8, 16, 256, 256])"
      ]
     },
     "execution_count": 17,
     "metadata": {},
     "output_type": "execute_result"
    }
   ],
   "source": [
    "from model import ModDemodConv3x3\n",
    "mdconv = ModDemodConv3x3(3, 16)\n",
    "i = torch.ones((8,3,256,256))\n",
    "s = torch.rand(8,3)\n",
    "o=mdconv(i,s)\n",
    "o.size()"
   ]
  },
  {
   "cell_type": "code",
   "execution_count": 10,
   "metadata": {},
   "outputs": [
    {
     "name": "stdout",
     "output_type": "stream",
     "text": [
      "torch.Size([1, 1, 2, 2])\n",
      "torch.Size([1, 1, 4, 4])\n",
      "torch.Size([1, 1, 4, 4])\n"
     ]
    }
   ],
   "source": [
    "input = torch.arange(1, 5, dtype=torch.float32).view(1, 1, 2, 2)\n",
    "print(input.size())\n",
    "\n",
    "m = torch.nn.Upsample(scale_factor=2, mode='nearest')\n",
    "print(m(input).size())\n",
    "\n",
    "m = torch.nn.Upsample(scale_factor=2, mode='bilinear')  \n",
    "print(m(input).size())"
   ]
  },
  {
   "cell_type": "code",
   "execution_count": 15,
   "metadata": {},
   "outputs": [
    {
     "name": "stdout",
     "output_type": "stream",
     "text": [
      "torch.Size([3, 1])\n",
      "torch.Size([3, 4])\n",
      "tensor([[1],\n",
      "        [2],\n",
      "        [3]]) tensor([[1, 1, 1, 1],\n",
      "        [2, 2, 2, 2],\n",
      "        [3, 3, 3, 3]])\n"
     ]
    }
   ],
   "source": [
    "x = torch.tensor([[1], [2], [3]])\n",
    "print(x.size())\n",
    "print(x.repeat(1, 4).size())   # -1 means not changing the size of that dimension\n",
    "print(x, x.repeat(1,4))"
   ]
  },
  {
   "cell_type": "code",
   "execution_count": 17,
   "metadata": {},
   "outputs": [
    {
     "data": {
      "text/plain": [
       "torch.Size([1, 3, 1])"
      ]
     },
     "execution_count": 17,
     "metadata": {},
     "output_type": "execute_result"
    }
   ],
   "source": [
    "x.unsqueeze(0).size()"
   ]
  },
  {
   "cell_type": "code",
   "execution_count": 18,
   "metadata": {},
   "outputs": [
    {
     "data": {
      "text/plain": [
       "torch.Size([])"
      ]
     },
     "execution_count": 18,
     "metadata": {},
     "output_type": "execute_result"
    }
   ],
   "source": [
    "torch.zeros([]).size()"
   ]
  },
  {
   "cell_type": "code",
   "execution_count": 28,
   "metadata": {},
   "outputs": [],
   "source": [
    "noise_scaling_factor = torch.tensor([2])\n",
    "noise = torch.randn((1,1,4,4))"
   ]
  },
  {
   "cell_type": "code",
   "execution_count": 30,
   "metadata": {},
   "outputs": [
    {
     "data": {
      "text/plain": [
       "(tensor([[[[ 0.5647, -1.3814, -1.1341,  0.3085],\n",
       "           [-0.7618,  0.3484,  1.7113,  1.5437],\n",
       "           [-0.7767, -0.6729, -0.3932,  0.7823],\n",
       "           [-0.5935,  0.7784, -0.1440,  0.5170]]]]),\n",
       " tensor([[[[ 1.1293, -2.7628, -2.2682,  0.6170],\n",
       "           [-1.5236,  0.6969,  3.4226,  3.0875],\n",
       "           [-1.5533, -1.3458, -0.7864,  1.5645],\n",
       "           [-1.1869,  1.5568, -0.2881,  1.0340]]]]),\n",
       " torch.Size([1]))"
      ]
     },
     "execution_count": 30,
     "metadata": {},
     "output_type": "execute_result"
    }
   ],
   "source": [
    "noise, noise_scaling_factor * noise, noise_scaling_factor.size()"
   ]
  },
  {
   "cell_type": "code",
   "execution_count": 32,
   "metadata": {},
   "outputs": [
    {
     "data": {
      "text/plain": [
       "tensor([[[[0., -0., -0., 0.],\n",
       "          [-0., 0., 0., 0.],\n",
       "          [-0., -0., -0., 0.],\n",
       "          [-0., 0., -0., 0.]]]])"
      ]
     },
     "execution_count": 32,
     "metadata": {},
     "output_type": "execute_result"
    }
   ],
   "source": [
    "torch.zeros((1))*noise"
   ]
  },
  {
   "cell_type": "code",
   "execution_count": 39,
   "metadata": {},
   "outputs": [
    {
     "data": {
      "text/plain": [
       "(torch.Size([8, 3, 4, 4]), torch.Size([8, 3, 8, 8]))"
      ]
     },
     "execution_count": 39,
     "metadata": {},
     "output_type": "execute_result"
    }
   ],
   "source": [
    "upsample = torch.nn.Upsample(scale_factor=2, mode=\"bilinear\")\n",
    "inp = torch.randn(8,3,4,4)\n",
    "inp.size(), upsample(inp).size()"
   ]
  },
  {
   "cell_type": "code",
   "execution_count": 44,
   "metadata": {},
   "outputs": [
    {
     "data": {
      "text/plain": [
       "(torch.Size([16, 3, 3, 3]), torch.Size([16]))"
      ]
     },
     "execution_count": 44,
     "metadata": {},
     "output_type": "execute_result"
    }
   ],
   "source": [
    "layer = torch.nn.Conv2d(3,16,3)\n",
    "layer.weight.size(), layer.bias.size()"
   ]
  },
  {
   "cell_type": "code",
   "execution_count": 45,
   "metadata": {},
   "outputs": [],
   "source": [
    "inp = torch.randn((8,3,16,16))"
   ]
  },
  {
   "cell_type": "code",
   "execution_count": 46,
   "metadata": {},
   "outputs": [
    {
     "data": {
      "text/plain": [
       "torch.Size([8, 16, 14, 14])"
      ]
     },
     "execution_count": 46,
     "metadata": {},
     "output_type": "execute_result"
    }
   ],
   "source": [
    "layer(inp).size()"
   ]
  },
  {
   "cell_type": "code",
   "execution_count": null,
   "metadata": {},
   "outputs": [],
   "source": []
  }
 ],
 "metadata": {
  "interpreter": {
   "hash": "0f6dd8c1d7576cf0de48aad06b0e935e2de8273eecf0f787202423f6355e44ee"
  },
  "kernelspec": {
   "display_name": "Python 3.7.13 ('myenv')",
   "language": "python",
   "name": "python3"
  },
  "language_info": {
   "codemirror_mode": {
    "name": "ipython",
    "version": 3
   },
   "file_extension": ".py",
   "mimetype": "text/x-python",
   "name": "python",
   "nbconvert_exporter": "python",
   "pygments_lexer": "ipython3",
   "version": "3.7.13"
  },
  "orig_nbformat": 4
 },
 "nbformat": 4,
 "nbformat_minor": 2
}
