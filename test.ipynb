{
 "cells": [
  {
   "cell_type": "code",
   "execution_count": null,
   "metadata": {},
   "outputs": [],
   "source": [
    "%load_ext autoreload\n",
    "%autoreload 2"
   ]
  },
  {
   "cell_type": "code",
   "execution_count": null,
   "metadata": {},
   "outputs": [],
   "source": [
    "from model import ResidualBlock, Discriminator\n",
    "import torchvision\n",
    "import torch\n",
    "\n",
    "image = torchvision.transforms.Resize(256)(torchvision.io.read_image(\"face.jpg\").float()).unsqueeze(0)"
   ]
  },
  {
   "cell_type": "code",
   "execution_count": null,
   "metadata": {},
   "outputs": [],
   "source": [
    "image.size()"
   ]
  },
  {
   "cell_type": "code",
   "execution_count": null,
   "metadata": {},
   "outputs": [],
   "source": [
    "rb = ResidualBlock(3, 16)"
   ]
  },
  {
   "cell_type": "code",
   "execution_count": null,
   "metadata": {},
   "outputs": [],
   "source": [
    "out = rb(image)\n",
    "out.size()"
   ]
  },
  {
   "cell_type": "code",
   "execution_count": null,
   "metadata": {},
   "outputs": [],
   "source": [
    "d = Discriminator(7, 16)"
   ]
  },
  {
   "cell_type": "code",
   "execution_count": null,
   "metadata": {},
   "outputs": [],
   "source": [
    "print(image.size())\n",
    "d(image)"
   ]
  },
  {
   "cell_type": "code",
   "execution_count": null,
   "metadata": {},
   "outputs": [],
   "source": [
    "test = torch.zeros((8,3,256,256))\n",
    "d(test).size()"
   ]
  },
  {
   "cell_type": "code",
   "execution_count": null,
   "metadata": {},
   "outputs": [],
   "source": [
    "import torch\n",
    "torch.manual_seed(9)\n",
    "#layer = torch.nn.Linear(1, 4)\n",
    "# layer.weight *= 4 inplace operations on leaf variables does not work\n",
    "\n",
    "con_layer = torch.nn.Conv2d(4,16, kernel_size=3)\n",
    "test = torch.zeros((8,4,256,256))\n",
    "test_unf = torch.nn.functional.unfold(test, (3, 3))\n",
    "weight = torch.randn(size=(16, 4, 3, 3))\n",
    "a = test_unf.transpose(1, 2).matmul(weight.view(weight.size(0), -1).t())\n",
    "print(a.size())\n",
    "print(con_layer.weight.size(), con_layer(test).size(), test.size(), test_unf.size())"
   ]
  },
  {
   "cell_type": "code",
   "execution_count": null,
   "metadata": {},
   "outputs": [],
   "source": [
    "import torch\n",
    "from torch import nn\n",
    "unfold = nn.Unfold(kernel_size=(2, 3))\n",
    "input = torch.randn(2, 5, 3, 4)\n",
    "output = unfold(input)\n",
    "# each patch contains 30 values (2x3=6 vectors, each of 5 channels)\n",
    "# 4 blocks (2x3 kernels) in total in the 3x4 input\n",
    "# print(input.size(),output.size())\n",
    "\n",
    "# Convolution is equivalent with Unfold + Matrix Multiplication + Fold (or view to output shape)\n",
    "inp = torch.randn(4, 3, 10, 12)\n",
    "w = torch.randn(2, 3, 4, 5)\n",
    "inp_unf = torch.nn.functional.unfold(inp, (4, 5))\n",
    "print(inp_unf.size())\n",
    "out_unf = inp_unf.transpose(1, 2).matmul(w.view(w.size(0), -1).t()).transpose(1, 2)\n",
    "print(out_unf.size())\n",
    "out = torch.nn.functional.fold(out_unf, (7, 8), (1, 1))\n",
    "print(out.size())\n",
    "# or equivalently (and avoiding a copy),\n",
    "# out = out_unf.view(1, 2, 7, 8)\n",
    "(torch.nn.functional.conv2d(inp, w) - out).abs().max()"
   ]
  },
  {
   "cell_type": "code",
   "execution_count": null,
   "metadata": {},
   "outputs": [],
   "source": [
    "w.view(w.size(0), -1).t().size()"
   ]
  },
  {
   "cell_type": "code",
   "execution_count": null,
   "metadata": {},
   "outputs": [],
   "source": [
    "torch.manual_seed(9)\n",
    "def convolution(i, w):\n",
    "\n",
    "    inp_unf = torch.nn.functional.unfold(i, (w.size(2), w.size(3)))\n",
    "    if len(w.size()) == 4:\n",
    "        out_unf = inp_unf.transpose(1, 2).matmul(w.view(w.size(0), -1).t()).transpose(1, 2)\n",
    "    else:\n",
    "        print(\"heuy\", inp_unf.transpose(1, 2).size(), w.view(w.size(0), w.size(1), -1).transpose(1,2).size())\n",
    "        out_unf = inp_unf.transpose(1, 2).matmul(w.view(w.size(0), w.size(1), -1).transpose(1,2)).transpose(1, 2)\n",
    "    out = torch.nn.functional.fold(out_unf, (i.size(2)-w.size(2)+1, i.size(3)-w.size(3)+1), (1, 1))\n",
    "    print(out.size())\n",
    "    return out"
   ]
  },
  {
   "cell_type": "code",
   "execution_count": null,
   "metadata": {},
   "outputs": [],
   "source": [
    "torch.manual_seed(9)\n",
    "i = torch.ones((8,3,6,6))\n",
    "s2 = torch.rand(8,1,3,1,1)\n",
    "s1 = s2.view(8,3,1,1)\n",
    "# print(s)\n",
    "w = torch.ones((16, 3, 3, 3))\n",
    "o1 = convolution(i*s1, w)\n",
    "bias = torch.randn((16,1,1))\n",
    "print(o1+bias)\n",
    "print((s2*w).size())\n",
    "o2 = convolution(i, s2*w)\n",
    "print((~(torch.abs(o1-o2) <1e-3)).sum())"
   ]
  },
  {
   "cell_type": "code",
   "execution_count": null,
   "metadata": {},
   "outputs": [],
   "source": [
    "a = torch.randn((8,3,2,1,1))\n",
    "a.square().sum(dim=(2,3,4), keepdim=True).size()"
   ]
  },
  {
   "cell_type": "code",
   "execution_count": null,
   "metadata": {},
   "outputs": [],
   "source": [
    "a,a.square().sum(dim=(2,3,4))"
   ]
  },
  {
   "cell_type": "code",
   "execution_count": null,
   "metadata": {},
   "outputs": [],
   "source": [
    "from model import ModDemodConv3x3\n",
    "mdconv = ModDemodConv3x3(3, 16)\n",
    "i = torch.ones((8,3,256,256))\n",
    "s = torch.rand(8,3)\n",
    "o=mdconv(i,s)\n",
    "o.size()"
   ]
  },
  {
   "cell_type": "code",
   "execution_count": null,
   "metadata": {},
   "outputs": [],
   "source": [
    "input = torch.arange(1, 5, dtype=torch.float32).view(1, 1, 2, 2)\n",
    "print(input.size())\n",
    "\n",
    "m = torch.nn.Upsample(scale_factor=2, mode='nearest')\n",
    "print(m(input).size())\n",
    "\n",
    "m = torch.nn.Upsample(scale_factor=2, mode='bilinear')  \n",
    "print(m(input).size())"
   ]
  },
  {
   "cell_type": "code",
   "execution_count": null,
   "metadata": {},
   "outputs": [],
   "source": [
    "x = torch.tensor([[1], [2], [3]])\n",
    "print(x.size())\n",
    "print(x.repeat(1,4).size())   # -1 means not changing the size of that dimension\n",
    "print(x, x.repeat(1,4))"
   ]
  },
  {
   "cell_type": "markdown",
   "metadata": {},
   "source": []
  },
  {
   "cell_type": "code",
   "execution_count": null,
   "metadata": {},
   "outputs": [],
   "source": [
    "x.unsqueeze(0).size()"
   ]
  },
  {
   "cell_type": "code",
   "execution_count": null,
   "metadata": {},
   "outputs": [],
   "source": [
    "torch.zeros([]).size()"
   ]
  },
  {
   "cell_type": "code",
   "execution_count": null,
   "metadata": {},
   "outputs": [],
   "source": [
    "noise_scaling_factor = torch.tensor([2])\n",
    "noise = torch.randn((1,1,4,4))"
   ]
  },
  {
   "cell_type": "code",
   "execution_count": null,
   "metadata": {},
   "outputs": [],
   "source": [
    "noise, noise_scaling_factor * noise, noise_scaling_factor.size()"
   ]
  },
  {
   "cell_type": "code",
   "execution_count": null,
   "metadata": {},
   "outputs": [],
   "source": [
    "torch.zeros((1))*noise"
   ]
  },
  {
   "cell_type": "code",
   "execution_count": null,
   "metadata": {},
   "outputs": [],
   "source": [
    "upsample = torch.nn.Upsample(scale_factor=2, mode=\"bilinear\")\n",
    "inp = torch.randn(8,3,4,4)\n",
    "inp.size(), upsample(inp).size()"
   ]
  },
  {
   "cell_type": "code",
   "execution_count": null,
   "metadata": {},
   "outputs": [],
   "source": [
    "layer = torch.nn.Conv2d(3,16,3)\n",
    "layer.weight.size(), layer.bias.size()"
   ]
  },
  {
   "cell_type": "code",
   "execution_count": null,
   "metadata": {},
   "outputs": [],
   "source": [
    "inp = torch.randn((8,3,16,16))"
   ]
  },
  {
   "cell_type": "code",
   "execution_count": null,
   "metadata": {},
   "outputs": [],
   "source": [
    "layer(inp).size()"
   ]
  },
  {
   "cell_type": "code",
   "execution_count": null,
   "metadata": {},
   "outputs": [],
   "source": [
    "import torch\n",
    "from model import HistoGAN\n",
    "from torchinfo import summary"
   ]
  },
  {
   "cell_type": "code",
   "execution_count": null,
   "metadata": {},
   "outputs": [],
   "source": [
    "from data import AnimeFacesDataset\n",
    "from torchvision.transforms import Resize\n",
    "resize = Resize((256,256))\n",
    "image_dir = \"images\"\n",
    "dataset = AnimeFacesDataset(image_dir)"
   ]
  },
  {
   "cell_type": "code",
   "execution_count": null,
   "metadata": {},
   "outputs": [],
   "source": [
    "dataset[0].size()"
   ]
  },
  {
   "cell_type": "code",
   "execution_count": null,
   "metadata": {},
   "outputs": [],
   "source": []
  }
 ],
 "metadata": {
  "interpreter": {
   "hash": "0f6dd8c1d7576cf0de48aad06b0e935e2de8273eecf0f787202423f6355e44ee"
  },
  "kernelspec": {
   "display_name": "Python 3.7.13 ('myenv')",
   "language": "python",
   "name": "python3"
  },
  "language_info": {
   "codemirror_mode": {
    "name": "ipython",
    "version": 3
   },
   "file_extension": ".py",
   "mimetype": "text/x-python",
   "name": "python",
   "nbconvert_exporter": "python",
   "pygments_lexer": "ipython3",
   "version": "3.7.13"
  },
  "orig_nbformat": 4
 },
 "nbformat": 4,
 "nbformat_minor": 2
}
